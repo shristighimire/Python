{
  "nbformat": 4,
  "nbformat_minor": 0,
  "metadata": {
    "colab": {
      "provenance": []
    },
    "kernelspec": {
      "name": "python3",
      "display_name": "Python 3"
    },
    "language_info": {
      "name": "python"
    }
  },
  "cells": [
    {
      "cell_type": "code",
      "execution_count": null,
      "metadata": {
        "colab": {
          "base_uri": "https://localhost:8080/"
        },
        "id": "9n-SEPJxy_8B",
        "outputId": "ab7fa075-2def-4843-ee1d-bb2b1cee07da"
      },
      "outputs": [
        {
          "output_type": "stream",
          "name": "stdout",
          "text": [
            "You can play.\n",
            "True\n",
            "False\n"
          ]
        }
      ],
      "source": [
        "players=['al','bea','cyn','dale']\n",
        "if 'al' in players:\n",
        "  print(\"You can play.\")\n",
        "print('al'in players)\n",
        "print('eric' in players)"
      ]
    },
    {
      "cell_type": "code",
      "source": [],
      "metadata": {
        "id": "ztxvI04kzcdQ"
      },
      "execution_count": null,
      "outputs": []
    }
  ]
}