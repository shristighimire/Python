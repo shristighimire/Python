{
  "nbformat": 4,
  "nbformat_minor": 0,
  "metadata": {
    "colab": {
      "provenance": []
    },
    "kernelspec": {
      "name": "python3",
      "display_name": "Python 3"
    },
    "language_info": {
      "name": "python"
    }
  },
  "cells": [
    {
      "cell_type": "code",
      "source": [
        "x=4\n",
        "print(x>=5) #this is testing the boolean value"
      ],
      "metadata": {
        "colab": {
          "base_uri": "https://localhost:8080/"
        },
        "id": "3PhGlbuHwXq-",
        "outputId": "21b56bf1-3537-492f-efbb-d075d3af4467"
      },
      "execution_count": null,
      "outputs": [
        {
          "output_type": "stream",
          "name": "stdout",
          "text": [
            "False\n"
          ]
        }
      ]
    },
    {
      "cell_type": "code",
      "source": [
        "x=4\n",
        "print(x!=5)    #!= means not equal\n",
        "print(type(x))\n",
        "type(x!=5)"
      ],
      "metadata": {
        "colab": {
          "base_uri": "https://localhost:8080/"
        },
        "id": "5vbbrjsNwgM5",
        "outputId": "4594e4b8-0760-428f-b8a4-2859f4abc678"
      },
      "execution_count": null,
      "outputs": [
        {
          "output_type": "stream",
          "name": "stdout",
          "text": [
            "True\n",
            "<class 'int'>\n"
          ]
        },
        {
          "output_type": "execute_result",
          "data": {
            "text/plain": [
              "bool"
            ]
          },
          "metadata": {},
          "execution_count": 8
        }
      ]
    },
    {
      "cell_type": "code",
      "execution_count": null,
      "metadata": {
        "colab": {
          "base_uri": "https://localhost:8080/"
        },
        "id": "_gxW6z_3r45X",
        "outputId": "9214e858-2f0d-408e-d1be-7f1730c47c40"
      },
      "outputs": [
        {
          "output_type": "stream",
          "name": "stdout",
          "text": [
            "Age: 19\n",
            "<class 'str'>\n",
            "You're old enough to vote.\n",
            "19\n"
          ]
        }
      ],
      "source": [
        "age= input(\"Age: \")\n",
        "print(type(age))\n",
        "age = int(age)               #inputs are always going to be strings\n",
        "if age >= 18:\n",
        "  print(\"You're old enough to vote.\")\n",
        "  print(age)"
      ]
    },
    {
      "cell_type": "code",
      "source": [
        "year= input(\"What year were you born?: \")\n",
        "year= int(year)\n",
        "if year ==2005:\n",
        "  print(f\"You are amazing because you were born in {year}\")\n",
        "elif year < 2005:\n",
        "  print(f\"It's ok that you are less than 2005 which is {year}\")\n",
        "else:\n",
        "  print(f\"You are still ok because you were born in {year}\")\n",
        "print(\"This is an example\")"
      ],
      "metadata": {
        "colab": {
          "base_uri": "https://localhost:8080/"
        },
        "id": "4kTeQgN00Kby",
        "outputId": "e74237ad-1f05-44c1-db03-83d4830ba570"
      },
      "execution_count": null,
      "outputs": [
        {
          "output_type": "stream",
          "name": "stdout",
          "text": [
            "What year were you born?: 2002\n",
            "It's ok that you are less than 2005 which is 2002\n",
            "This is an example\n"
          ]
        }
      ]
    },
    {
      "cell_type": "code",
      "source": [
        "age= input(\"Age: \")\n",
        "age= int(age)\n",
        "if age >= 5 and age <=65:\n",
        "  print(\"You owe $20.\")\n",
        "else: print(\"Your price is free.\")"
      ],
      "metadata": {
        "colab": {
          "base_uri": "https://localhost:8080/"
        },
        "id": "k2wfJiQK5Cdd",
        "outputId": "bc1ee39d-bc5b-4ecc-c22a-dc63ff570460"
      },
      "execution_count": null,
      "outputs": [
        {
          "output_type": "stream",
          "name": "stdout",
          "text": [
            "Age: 4\n",
            "Your price is free.\n"
          ]
        }
      ]
    },
    {
      "cell_type": "code",
      "source": [
        "age= 1\n",
        "if age > 5 or age < 65:\n",
        "  if age == 1:\n",
        "    print(\"you're too young.\")\n",
        "  else: print(\"Your price is free.\")\n",
        "else: print(\"You owe $20.\")"
      ],
      "metadata": {
        "colab": {
          "base_uri": "https://localhost:8080/"
        },
        "id": "hAsFzSMt6jfW",
        "outputId": "1639a6a2-e8d7-4ebd-e64c-dbd79bb373b8"
      },
      "execution_count": null,
      "outputs": [
        {
          "output_type": "stream",
          "name": "stdout",
          "text": [
            "you're too young.\n"
          ]
        }
      ]
    }
  ]
}