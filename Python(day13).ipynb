{
  "nbformat": 4,
  "nbformat_minor": 0,
  "metadata": {
    "colab": {
      "provenance": []
    },
    "kernelspec": {
      "name": "python3",
      "display_name": "Python 3"
    },
    "language_info": {
      "name": "python"
    }
  },
  "cells": [
    {
      "cell_type": "markdown",
      "source": [
        "For loop"
      ],
      "metadata": {
        "id": "E3SvRFZzIjrr"
      }
    },
    {
      "cell_type": "code",
      "execution_count": null,
      "metadata": {
        "colab": {
          "base_uri": "https://localhost:8080/"
        },
        "id": "zInAMLLmH6Iu",
        "outputId": "73c7c854-f670-41f8-8ae2-fa2b9efe0bed"
      },
      "outputs": [
        {
          "output_type": "stream",
          "name": "stdout",
          "text": [
            "Paul\n",
            "Winter\n",
            "Anna\n",
            "John\n"
          ]
        }
      ],
      "source": [
        "friends=['Paul','Winter','Anna','John']\n",
        "for friend in friends:\n",
        "  print(friend)"
      ]
    },
    {
      "cell_type": "code",
      "source": [
        "friends=['Paul','Winter','Anna','John']\n",
        "for friend in friends:\n",
        "  print(friends)   #it prints the whole list again and again, each time for each friend."
      ],
      "metadata": {
        "colab": {
          "base_uri": "https://localhost:8080/"
        },
        "id": "oK0-Grw1Ig84",
        "outputId": "8048426f-098a-43d1-adc2-8cc0d7e57ac2"
      },
      "execution_count": null,
      "outputs": [
        {
          "output_type": "stream",
          "name": "stdout",
          "text": [
            "['Paul', 'Winter', 'Anna', 'John']\n",
            "['Paul', 'Winter', 'Anna', 'John']\n",
            "['Paul', 'Winter', 'Anna', 'John']\n",
            "['Paul', 'Winter', 'Anna', 'John']\n"
          ]
        }
      ]
    },
    {
      "cell_type": "code",
      "source": [
        "friends=['Paul','Winter','Anna','John']\n",
        "for friends in friends:\n",
        "  print(friend)"
      ],
      "metadata": {
        "colab": {
          "base_uri": "https://localhost:8080/"
        },
        "id": "4qyUMxrZJPlq",
        "outputId": "b6cdd414-43b6-472a-c0e0-1f4eddace865"
      },
      "execution_count": null,
      "outputs": [
        {
          "output_type": "stream",
          "name": "stdout",
          "text": [
            "John\n",
            "John\n",
            "John\n",
            "John\n"
          ]
        }
      ]
    },
    {
      "cell_type": "code",
      "source": [
        "friends=['Paul','Winter','Anna','John']\n",
        "print(friends)\n",
        "for friends in friends:\n",
        "  print(friends)\n",
        "print()\n",
        "print(friends)"
      ],
      "metadata": {
        "colab": {
          "base_uri": "https://localhost:8080/"
        },
        "id": "gjBkF2VpJbX-",
        "outputId": "b4905b0e-3364-4ef2-d64a-6688c5919e57"
      },
      "execution_count": null,
      "outputs": [
        {
          "output_type": "stream",
          "name": "stdout",
          "text": [
            "['Paul', 'Winter', 'Anna', 'John']\n",
            "Paul\n",
            "Winter\n",
            "Anna\n",
            "John\n",
            "\n",
            "John\n"
          ]
        }
      ]
    }
  ]
}