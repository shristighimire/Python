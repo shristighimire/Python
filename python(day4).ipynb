{
  "nbformat": 4,
  "nbformat_minor": 0,
  "metadata": {
    "colab": {
      "provenance": []
    },
    "kernelspec": {
      "name": "python3",
      "display_name": "Python 3"
    },
    "language_info": {
      "name": "python"
    }
  },
  "cells": [
    {
      "cell_type": "code",
      "execution_count": null,
      "metadata": {
        "colab": {
          "base_uri": "https://localhost:8080/"
        },
        "id": "3X22Mtdtx0r9",
        "outputId": "feaaceda-79e3-42da-95e3-419568261379"
      },
      "outputs": [
        {
          "output_type": "stream",
          "name": "stdout",
          "text": [
            "Hello my favourite class\n"
          ]
        }
      ],
      "source": [
        "print(\"Hello my favourite class\")"
      ]
    },
    {
      "cell_type": "code",
      "source": [
        "print(3+4)"
      ],
      "metadata": {
        "colab": {
          "base_uri": "https://localhost:8080/"
        },
        "id": "pcAEhxLK4XYl",
        "outputId": "eaf46648-27b7-4807-99f0-8e0d48012216"
      },
      "execution_count": null,
      "outputs": [
        {
          "output_type": "stream",
          "name": "stdout",
          "text": [
            "7\n"
          ]
        }
      ]
    },
    {
      "cell_type": "markdown",
      "source": [
        "Variable Excercise"
      ],
      "metadata": {
        "id": "U5WPRi5v6foJ"
      }
    },
    {
      "cell_type": "code",
      "source": [
        "first_name = \"Sue\"   #this is a assignment statement. assigns the value sue to the variable first name\n",
        "print(first_name)    #no need to use the quotation because it's a variable not a string"
      ],
      "metadata": {
        "colab": {
          "base_uri": "https://localhost:8080/"
        },
        "id": "6yyi8RU46ZxZ",
        "outputId": "5430bd9f-22ad-4c24-9511-247019748eca"
      },
      "execution_count": null,
      "outputs": [
        {
          "output_type": "stream",
          "name": "stdout",
          "text": [
            "Sue\n"
          ]
        }
      ]
    },
    {
      "cell_type": "markdown",
      "source": [
        "Method"
      ],
      "metadata": {
        "id": "FtnbEEXX-ucO"
      }
    },
    {
      "cell_type": "code",
      "source": [
        "first_name = \"Shristi\"       # shristi is the value\n",
        "print(first_name.title())    #here title is the method. when we add method, we need to add it with a (.) and the extra bracket is to later make it even more specific for this variable if needed\n"
      ],
      "metadata": {
        "colab": {
          "base_uri": "https://localhost:8080/"
        },
        "id": "c_z8hG7_7kNo",
        "outputId": "f1cb71cd-96fb-4c06-e40d-c9a84911baf0"
      },
      "execution_count": null,
      "outputs": [
        {
          "output_type": "stream",
          "name": "stdout",
          "text": [
            "Shristi\n"
          ]
        }
      ]
    },
    {
      "cell_type": "code",
      "source": [
        "first_name = \"Shristi\"\n",
        "last_name = \" Ghimire\"\n",
        "print(first_name.title(),last_name.title())      #if you use \"+\"\" you won't get space in between but is you add a \",\" you will get a space"
      ],
      "metadata": {
        "colab": {
          "base_uri": "https://localhost:8080/"
        },
        "id": "z9CzOqky8X5O",
        "outputId": "b8b4631b-fe94-4465-a083-e3c7fc37f8e6"
      },
      "execution_count": null,
      "outputs": [
        {
          "output_type": "stream",
          "name": "stdout",
          "text": [
            "Shristi  Ghimire\n"
          ]
        }
      ]
    },
    {
      "cell_type": "markdown",
      "source": [
        "F-strings"
      ],
      "metadata": {
        "id": "-PB31T7zChOm"
      }
    },
    {
      "cell_type": "code",
      "source": [
        "first_name = \"Shristi\"\n",
        "last_name = \"Ghimire\"\n",
        "full_name = f\"{first_name} {last_name}\"   #here full_name is a string not a function like print so when we are assinging the values of variables to a string, we need f before the quotation begins and curly brackets instead of ()\n",
        "print(full_name.title())                  #print is a function"
      ],
      "metadata": {
        "colab": {
          "base_uri": "https://localhost:8080/"
        },
        "id": "pXbvQOXM-o96",
        "outputId": "a66c482b-6855-4b1e-ba9a-a9de8f9b477f"
      },
      "execution_count": null,
      "outputs": [
        {
          "output_type": "stream",
          "name": "stdout",
          "text": [
            "Shristi Ghimire\n"
          ]
        }
      ]
    },
    {
      "cell_type": "code",
      "source": [
        "first_name = \"Shristi\"\n",
        "middle_int = \"B\"\n",
        "last_name = \"Ghimire\"\n",
        "full_name = f\"{first_name} {middle_int} {last_name}\"\n",
        "print(f\"Hello my friend {full_name.title()}!\")  #if you remove f here, the value of full_name won't be used"
      ],
      "metadata": {
        "colab": {
          "base_uri": "https://localhost:8080/"
        },
        "id": "E7sw0ogEAZOY",
        "outputId": "46ef1b8c-38ee-46c5-f541-eba82eea8927"
      },
      "execution_count": null,
      "outputs": [
        {
          "output_type": "stream",
          "name": "stdout",
          "text": [
            "Hello my friend Shristi B Ghimire!\n"
          ]
        }
      ]
    },
    {
      "cell_type": "markdown",
      "source": [
        "Integer"
      ],
      "metadata": {
        "id": "KIR7IjE-Cnyg"
      }
    },
    {
      "cell_type": "code",
      "source": [
        "x=3\n",
        "y=5\n",
        "print(x+y) #we are assigning x and y as integers"
      ],
      "metadata": {
        "colab": {
          "base_uri": "https://localhost:8080/"
        },
        "id": "JRyTh4ESCE5n",
        "outputId": "73ab1612-45e7-4599-cacf-75b8b2c6c7c0"
      },
      "execution_count": null,
      "outputs": [
        {
          "output_type": "stream",
          "name": "stdout",
          "text": [
            "8\n"
          ]
        }
      ]
    },
    {
      "cell_type": "markdown",
      "source": [
        "Float"
      ],
      "metadata": {
        "id": "lLNaT3AJDZSR"
      }
    },
    {
      "cell_type": "code",
      "source": [
        "x=3.5  #this is a float because it is in decimal\n",
        "y=5.5\n",
        "z=(x+y)\n",
        "print(z)"
      ],
      "metadata": {
        "colab": {
          "base_uri": "https://localhost:8080/"
        },
        "id": "MWZ7kvdCCWc9",
        "outputId": "483fb58f-2899-4d9e-e891-0cb6e2a4d69c"
      },
      "execution_count": null,
      "outputs": [
        {
          "output_type": "stream",
          "name": "stdout",
          "text": [
            "9.0\n"
          ]
        }
      ]
    }
  ]
}