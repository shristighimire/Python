{
  "nbformat": 4,
  "nbformat_minor": 0,
  "metadata": {
    "colab": {
      "provenance": []
    },
    "kernelspec": {
      "name": "python3",
      "display_name": "Python 3"
    },
    "language_info": {
      "name": "python"
    }
  },
  "cells": [
    {
      "cell_type": "code",
      "execution_count": null,
      "metadata": {
        "colab": {
          "base_uri": "https://localhost:8080/"
        },
        "id": "Wp8XZUpQ61zv",
        "outputId": "d39bb661-e859-47d5-dc24-a7d77f9241d7"
      },
      "outputs": [
        {
          "output_type": "stream",
          "name": "stdout",
          "text": [
            "Jo is number 1 in the Marymount roster.\n",
            "Jo is number 1 in the Marymount roster.\n",
            "Jo is number 1 in the Marymount roster.\n"
          ]
        }
      ],
      "source": [
        "students=['jo', 1, 'charen', 2, 'trevor',3]\n",
        "print((students[0].title()),\"is number\",students[1],\"in the Marymount roster.\")\n",
        "print(f'{students[0].title()} is number {students[1]} in the Marymount roster.')\n",
        "print(str(students[0].title())+\" is number \"+str(students[1])+\" in the Marymount roster.\")\n"
      ]
    }
  ]
}