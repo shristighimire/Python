{
  "nbformat": 4,
  "nbformat_minor": 0,
  "metadata": {
    "colab": {
      "provenance": []
    },
    "kernelspec": {
      "name": "python3",
      "display_name": "Python 3"
    },
    "language_info": {
      "name": "python"
    }
  },
  "cells": [
    {
      "cell_type": "code",
      "execution_count": null,
      "metadata": {
        "colab": {
          "base_uri": "https://localhost:8080/"
        },
        "id": "0fvNS44-n9jZ",
        "outputId": "bb4b6844-81c2-4d05-a786-f822601e088f"
      },
      "outputs": [
        {
          "output_type": "stream",
          "name": "stdout",
          "text": [
            "My favourite number is 3.\n",
            "My favourite number is 4.\n",
            "My favourite number is 5.\n",
            "My favourite number is 6.\n",
            "My favourite number is 7.\n",
            "My favourite number is 8.\n",
            "My favourite number is 9.\n",
            "The total is 42.\n"
          ]
        }
      ],
      "source": [
        "new_range= range(7)\n",
        "list=[]\n",
        "for  numbers in new_range:\n",
        "  added_numbers = numbers + 3\n",
        "  list.append(added_numbers)\n",
        "for numbers in list:\n",
        "  print(f\"My favourite number is {numbers}.\")\n",
        "total= sum(list)\n",
        "print(f\"The total is {total}.\")"
      ]
    }
  ]
}