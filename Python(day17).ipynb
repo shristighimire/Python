{
  "nbformat": 4,
  "nbformat_minor": 0,
  "metadata": {
    "colab": {
      "provenance": []
    },
    "kernelspec": {
      "name": "python3",
      "display_name": "Python 3"
    },
    "language_info": {
      "name": "python"
    }
  },
  "cells": [
    {
      "cell_type": "markdown",
      "source": [
        "Excercise 3.1"
      ],
      "metadata": {
        "id": "Y86L9HZTdxcJ"
      }
    },
    {
      "cell_type": "code",
      "execution_count": null,
      "metadata": {
        "colab": {
          "base_uri": "https://localhost:8080/"
        },
        "id": "HyC506lEdtHE",
        "outputId": "6ea5a701-f917-4c6c-a1e2-65113f538e16"
      },
      "outputs": [
        {
          "output_type": "stream",
          "name": "stdout",
          "text": [
            "['nepal', 'india', 'bhutan', 'denmark', 'france']\n"
          ]
        }
      ],
      "source": [
        "#five places i would like to visit\n",
        "places=['nepal', 'india', 'bhutan','denmark','france']\n",
        "print(places)"
      ]
    },
    {
      "cell_type": "code",
      "source": [
        "#use sorted() to print list in alphabetical order\n",
        "print(sorted(places))\n",
        "print(places)"
      ],
      "metadata": {
        "id": "7d_D-nOPd0oN",
        "colab": {
          "base_uri": "https://localhost:8080/"
        },
        "outputId": "0474e0df-f74e-46e5-9be0-56531c486ddd"
      },
      "execution_count": null,
      "outputs": [
        {
          "output_type": "stream",
          "name": "stdout",
          "text": [
            "['bhutan', 'denmark', 'france', 'india', 'nepal']\n",
            "['nepal', 'india', 'bhutan', 'denmark', 'france']\n"
          ]
        }
      ]
    },
    {
      "cell_type": "code",
      "source": [
        "#use sorted to print list in reverse\n",
        "reverse_places=sorted(places,reverse=True)\n",
        "print(reverse_places)\n",
        "print(places)"
      ],
      "metadata": {
        "colab": {
          "base_uri": "https://localhost:8080/"
        },
        "id": "THkgj6Yfe2P_",
        "outputId": "30b50715-de5a-41e8-fda2-d758a452f28a"
      },
      "execution_count": null,
      "outputs": [
        {
          "output_type": "stream",
          "name": "stdout",
          "text": [
            "['nepal', 'india', 'france', 'denmark', 'bhutan']\n",
            "['nepal', 'india', 'bhutan', 'denmark', 'france']\n"
          ]
        }
      ]
    },
    {
      "cell_type": "code",
      "source": [
        "#use reverse() to change the order of your list\n",
        "print(places)\n",
        "places.reverse()\n",
        "print(places)"
      ],
      "metadata": {
        "colab": {
          "base_uri": "https://localhost:8080/"
        },
        "id": "1hY4zAUlfyKU",
        "outputId": "deed5426-0dd4-447e-c87a-89083bfa3d30"
      },
      "execution_count": null,
      "outputs": [
        {
          "output_type": "stream",
          "name": "stdout",
          "text": [
            "['nepal', 'india', 'bhutan', 'denmark', 'france']\n",
            "['france', 'denmark', 'bhutan', 'india', 'nepal']\n"
          ]
        }
      ]
    },
    {
      "cell_type": "code",
      "source": [
        "#use reverse()to bring list to original order\n",
        "print(places)\n",
        "places.reverse()\n",
        "print(places)"
      ],
      "metadata": {
        "colab": {
          "base_uri": "https://localhost:8080/"
        },
        "id": "knhMEhNAhaNT",
        "outputId": "a9c106c2-7c23-413c-9115-a8163e7bc51d"
      },
      "execution_count": null,
      "outputs": [
        {
          "output_type": "stream",
          "name": "stdout",
          "text": [
            "['france', 'denmark', 'bhutan', 'india', 'nepal']\n",
            "['nepal', 'india', 'bhutan', 'denmark', 'france']\n"
          ]
        }
      ]
    },
    {
      "cell_type": "code",
      "source": [
        "#use sort()to change list permanently\n",
        "places.sort()\n",
        "print(places)"
      ],
      "metadata": {
        "colab": {
          "base_uri": "https://localhost:8080/"
        },
        "id": "v1aOTUKiiMJ0",
        "outputId": "f7b093b8-7fab-4641-c111-b344383840fe"
      },
      "execution_count": null,
      "outputs": [
        {
          "output_type": "stream",
          "name": "stdout",
          "text": [
            "['bhutan', 'denmark', 'france', 'india', 'nepal']\n"
          ]
        }
      ]
    },
    {
      "cell_type": "code",
      "source": [
        "#use sort() to store list in reverse alphabetical order\n",
        "places.sort(reverse=True)\n",
        "print(places)"
      ],
      "metadata": {
        "colab": {
          "base_uri": "https://localhost:8080/"
        },
        "id": "aex2vXRIiWh1",
        "outputId": "a5b0b3ea-9b7d-43e9-9930-b06d2f5f8ce8"
      },
      "execution_count": null,
      "outputs": [
        {
          "output_type": "stream",
          "name": "stdout",
          "text": [
            "['nepal', 'india', 'france', 'denmark', 'bhutan']\n"
          ]
        }
      ]
    },
    {
      "cell_type": "markdown",
      "source": [
        "3.2"
      ],
      "metadata": {
        "id": "dDVynjTbijog"
      }
    },
    {
      "cell_type": "code",
      "source": [
        "#make a list including 3 people, invite them\n",
        "friends=['Sal','Kri','Riya']\n",
        "for friend in friends:\n",
        "  print(f\"{friend} please come to my place for dinner.\")\n"
      ],
      "metadata": {
        "colab": {
          "base_uri": "https://localhost:8080/"
        },
        "id": "J-qmgvTKilyW",
        "outputId": "b1c845cc-7d2e-437a-e148-cfe52e9566eb"
      },
      "execution_count": null,
      "outputs": [
        {
          "output_type": "stream",
          "name": "stdout",
          "text": [
            "Sal please come to my place for dinner.\n",
            "Kri please come to my place for dinner.\n",
            "Riya please come to my place for dinner.\n"
          ]
        }
      ]
    },
    {
      "cell_type": "code",
      "source": [
        "#use len() to print a message indiacting the number of people invited to dinner\n",
        "print(\"I am inviting\",str(len(friends)),\"friends for the dinner.\")"
      ],
      "metadata": {
        "colab": {
          "base_uri": "https://localhost:8080/"
        },
        "id": "FSmdguAXjQak",
        "outputId": "b857a16e-50bb-47af-8f6d-2d5fda81420b"
      },
      "execution_count": null,
      "outputs": [
        {
          "output_type": "stream",
          "name": "stdout",
          "text": [
            "I am inviting 3 friends for the dinner.\n"
          ]
        }
      ]
    },
    {
      "cell_type": "markdown",
      "source": [
        "3.3"
      ],
      "metadata": {
        "id": "pj5C1jRikZLS"
      }
    },
    {
      "cell_type": "code",
      "source": [
        "#create a list of items\n",
        "cities=[\"kathmandu\",\"dhading\",\"Los Angeles\",\"Washington DC\"]\n",
        "print(cities)"
      ],
      "metadata": {
        "colab": {
          "base_uri": "https://localhost:8080/"
        },
        "id": "EOmyzhVkkHBA",
        "outputId": "c319a2ad-055a-41af-87a7-73d0a301af04"
      },
      "execution_count": null,
      "outputs": [
        {
          "output_type": "stream",
          "name": "stdout",
          "text": [
            "['kathmandu', 'dhading', 'Los Angeles', 'Washington DC']\n"
          ]
        }
      ]
    },
    {
      "cell_type": "code",
      "source": [
        "#acess the list and print the item\n",
        "favourite_city=cities[0]\n",
        "print(favourite_city)"
      ],
      "metadata": {
        "colab": {
          "base_uri": "https://localhost:8080/"
        },
        "id": "rpDr_R_Xk6Zm",
        "outputId": "fb4c87a6-cdc2-4747-f15f-768cad3de057"
      },
      "execution_count": null,
      "outputs": [
        {
          "output_type": "stream",
          "name": "stdout",
          "text": [
            "kathmandu\n"
          ]
        }
      ]
    },
    {
      "cell_type": "code",
      "source": [
        "#change an item in the list by its index\n",
        "cities[3]=\"Copenhagen\"\n",
        "print(cities)"
      ],
      "metadata": {
        "colab": {
          "base_uri": "https://localhost:8080/"
        },
        "id": "Iv-rWdmglM-z",
        "outputId": "a6ade051-746f-434e-ac60-6464a3f8f35c"
      },
      "execution_count": null,
      "outputs": [
        {
          "output_type": "stream",
          "name": "stdout",
          "text": [
            "['kathmandu', 'dhading', 'Los Angeles', 'Copenhagen']\n"
          ]
        }
      ]
    },
    {
      "cell_type": "code",
      "source": [
        "#add an item to the list and print the modified list\n",
        "cities.append(\"Palo Alto\")\n",
        "print(cities)"
      ],
      "metadata": {
        "colab": {
          "base_uri": "https://localhost:8080/"
        },
        "id": "NxxefwJzliDP",
        "outputId": "70ade59b-f968-4631-8d82-8cda3c34fbda"
      },
      "execution_count": null,
      "outputs": [
        {
          "output_type": "stream",
          "name": "stdout",
          "text": [
            "['kathmandu', 'dhading', 'Los Angeles', 'Copenhagen', 'Palo Alto']\n"
          ]
        }
      ]
    },
    {
      "cell_type": "code",
      "source": [
        "#insert an item and print modified list\n",
        "cities.insert(2,\"Boston\")\n",
        "print(cities)"
      ],
      "metadata": {
        "colab": {
          "base_uri": "https://localhost:8080/"
        },
        "id": "O4QrjoiZl0Sh",
        "outputId": "0a4aedf5-f9bb-45cb-c264-cf1e0c5513cf"
      },
      "execution_count": null,
      "outputs": [
        {
          "output_type": "stream",
          "name": "stdout",
          "text": [
            "['kathmandu', 'dhading', 'Boston', 'Los Angeles', 'Copenhagen', 'Palo Alto']\n"
          ]
        }
      ]
    },
    {
      "cell_type": "code",
      "source": [
        "#remove an item using \"del\"\n",
        "del cities[0]\n",
        "print(cities)"
      ],
      "metadata": {
        "colab": {
          "base_uri": "https://localhost:8080/"
        },
        "id": "HnH2lKR1mDv0",
        "outputId": "094ecdc4-bcb4-4bcb-bfc3-2c71615926df"
      },
      "execution_count": null,
      "outputs": [
        {
          "output_type": "stream",
          "name": "stdout",
          "text": [
            "['dhading', 'Boston', 'Los Angeles', 'Copenhagen', 'Palo Alto']\n"
          ]
        }
      ]
    },
    {
      "cell_type": "code",
      "source": [
        "#remove an item using pop\n",
        "removed_city = cities.pop(3)\n",
        "print(removed_city)\n",
        "print(cities)"
      ],
      "metadata": {
        "colab": {
          "base_uri": "https://localhost:8080/"
        },
        "id": "aRMEf7uImL51",
        "outputId": "103dd533-bdfb-46c4-ebb5-287d39f05f65"
      },
      "execution_count": null,
      "outputs": [
        {
          "output_type": "stream",
          "name": "stdout",
          "text": [
            "Copenhagen\n",
            "['dhading', 'Boston', 'Los Angeles']\n"
          ]
        }
      ]
    },
    {
      "cell_type": "code",
      "source": [
        "#remove an item using it's value\n",
        "cities.remove(\"Boston\")\n",
        "print(cities)"
      ],
      "metadata": {
        "colab": {
          "base_uri": "https://localhost:8080/"
        },
        "id": "CdRdj7aPmgSw",
        "outputId": "1c3a850f-e618-4a3a-bc0c-505ace11fad8"
      },
      "execution_count": null,
      "outputs": [
        {
          "output_type": "stream",
          "name": "stdout",
          "text": [
            "['dhading', 'Los Angeles']\n"
          ]
        }
      ]
    }
  ]
}