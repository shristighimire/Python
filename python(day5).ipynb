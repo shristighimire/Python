{
  "nbformat": 4,
  "nbformat_minor": 0,
  "metadata": {
    "colab": {
      "provenance": []
    },
    "kernelspec": {
      "name": "python3",
      "display_name": "Python 3"
    },
    "language_info": {
      "name": "python"
    }
  },
  "cells": [
    {
      "cell_type": "markdown",
      "source": [
        "2.3"
      ],
      "metadata": {
        "id": "qwKVrF6eylat"
      }
    },
    {
      "cell_type": "code",
      "execution_count": null,
      "metadata": {
        "colab": {
          "base_uri": "https://localhost:8080/"
        },
        "id": "K1xkFZXYxeb6",
        "outputId": "b16b579d-df40-40e8-cbb6-c60196bd003e"
      },
      "outputs": [
        {
          "output_type": "stream",
          "name": "stdout",
          "text": [
            "Hello Shristi, would you like to learn some python today?\n"
          ]
        }
      ],
      "source": [
        "first_name= \"Shristi\"\n",
        "print(f'Hello {first_name}, would you like to learn some python today?' )   #f lets us use the value of variable in a sentence\n"
      ]
    },
    {
      "cell_type": "markdown",
      "source": [
        "2.4"
      ],
      "metadata": {
        "id": "0d7IjFoHzm0r"
      }
    },
    {
      "cell_type": "code",
      "source": [
        "name=\"Shristi\"\n",
        "print(name.lower())         #.lower() and .upper() make all letter lower and uppercase respectively\n",
        "print(name.upper())"
      ],
      "metadata": {
        "colab": {
          "base_uri": "https://localhost:8080/"
        },
        "id": "bCmNf9eLypNY",
        "outputId": "9c54a2d7-7d52-4349-ba85-0859de6aded3"
      },
      "execution_count": null,
      "outputs": [
        {
          "output_type": "stream",
          "name": "stdout",
          "text": [
            "shristi\n",
            "SHRISTI\n"
          ]
        }
      ]
    },
    {
      "cell_type": "markdown",
      "source": [
        "2.5"
      ],
      "metadata": {
        "id": "sfRHH3Xq0nUy"
      }
    },
    {
      "cell_type": "code",
      "source": [
        "print('Stephen Chbosky said \"We accept the love we think we deserve.”')   #using both \" \" and ' ' to make sure the saying gets quotation marks"
      ],
      "metadata": {
        "colab": {
          "base_uri": "https://localhost:8080/"
        },
        "id": "xM2W2cuQz4C_",
        "outputId": "2b6d1954-8dfd-4ce3-e1a8-170effbaa9ff"
      },
      "execution_count": null,
      "outputs": [
        {
          "output_type": "stream",
          "name": "stdout",
          "text": [
            "Stephen Chbosky said \"We accept the love we think we deserve.”\n"
          ]
        }
      ]
    },
    {
      "cell_type": "markdown",
      "source": [
        "2.6"
      ],
      "metadata": {
        "id": "s6izipsE1dXy"
      }
    },
    {
      "cell_type": "code",
      "source": [
        "famous_person=\"Stephen Chbosky\"\n",
        "message='\"We accept the love we think we deserve.\"'  #using f again to use the values of variable\n",
        "print(f\"{famous_person} said {message}\")"
      ],
      "metadata": {
        "colab": {
          "base_uri": "https://localhost:8080/"
        },
        "id": "lNb9k3g60p7v",
        "outputId": "38c18827-2a4a-453b-bb46-a7ae4c4c6008"
      },
      "execution_count": null,
      "outputs": [
        {
          "output_type": "stream",
          "name": "stdout",
          "text": [
            "Stephen Chbosky said \"We accept the love we think we deserve.\"\n"
          ]
        }
      ]
    },
    {
      "cell_type": "markdown",
      "source": [
        "2.7"
      ],
      "metadata": {
        "id": "2VjQaQq93Jd2"
      }
    },
    {
      "cell_type": "code",
      "source": [
        "name=\" Shristi \"                #Hello professor, I didn't understand what it meant by using \"\\t\" and \"\\n\"\n",
        "print(name)\n",
        "print(name.rstrip())            #rstrip and lstrip removes space from right and left respectively\n",
        "print(name.lstrip())            #strip removes space from both left and right\n",
        "print(name.strip())"
      ],
      "metadata": {
        "colab": {
          "base_uri": "https://localhost:8080/"
        },
        "outputId": "18e21948-e377-4b4d-dabc-15c4355fe124",
        "id": "rGZZnIpl6nHa"
      },
      "execution_count": null,
      "outputs": [
        {
          "output_type": "stream",
          "name": "stdout",
          "text": [
            " Shristi \n",
            " Shristi\n",
            "Shristi \n",
            "Shristi\n"
          ]
        }
      ]
    },
    {
      "cell_type": "markdown",
      "source": [
        "Hello professor! I didn't understand what the question meant by using \"\\t\" and \"\\n\""
      ],
      "metadata": {
        "id": "CSKdwUCO6kXK"
      }
    },
    {
      "cell_type": "markdown",
      "source": [
        "2.8"
      ],
      "metadata": {
        "id": "qECubZ7E4edy"
      }
    },
    {
      "cell_type": "code",
      "source": [
        "print(2+6)              #since we aren't using any quotation marks, python works like calculator\n",
        "print(2*4)\n",
        "print(10-2)\n",
        "print(16/2)"
      ],
      "metadata": {
        "colab": {
          "base_uri": "https://localhost:8080/"
        },
        "id": "GSM-HbJ24dzG",
        "outputId": "96b1fba8-588d-4e3b-d03f-123b89a43cde"
      },
      "execution_count": null,
      "outputs": [
        {
          "output_type": "stream",
          "name": "stdout",
          "text": [
            "8\n",
            "8\n",
            "8\n",
            "8.0\n"
          ]
        }
      ]
    },
    {
      "cell_type": "markdown",
      "source": [
        "2.9"
      ],
      "metadata": {
        "id": "CbTUDPTW5JYT"
      }
    },
    {
      "cell_type": "code",
      "source": [
        "favourite_number= 3\n",
        "print(f\"\\t\\n My favourite number is {favourite_number}.\")            #using f function again to use the value of variable\n",
        "print(f\"\\n My favourite number is {favourite_number}.\") #\"\\n\" adds a new line\n",
        "print(f\"\\t My favourite number is {favourite_number}.\") #\"\\t\" adds tab"
      ],
      "metadata": {
        "colab": {
          "base_uri": "https://localhost:8080/"
        },
        "id": "PQFAtiXd41ep",
        "outputId": "b097e2f3-735e-4307-ef47-fcb579150606"
      },
      "execution_count": null,
      "outputs": [
        {
          "output_type": "stream",
          "name": "stdout",
          "text": [
            "\t\n",
            " My favourite number is 3.\n",
            "\n",
            " My favourite number is 3.\n",
            "\t My favourite number is 3.\n"
          ]
        }
      ]
    }
  ]
}