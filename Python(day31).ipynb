{
  "nbformat": 4,
  "nbformat_minor": 0,
  "metadata": {
    "colab": {
      "provenance": []
    },
    "kernelspec": {
      "name": "python3",
      "display_name": "Python 3"
    },
    "language_info": {
      "name": "python"
    }
  },
  "cells": [
    {
      "cell_type": "markdown",
      "source": [
        "1. What is the output of the following code?\n",
        "\n",
        "for x in range(0, 5):\n",
        "\n",
        "    print(x)"
      ],
      "metadata": {
        "id": "X3MeS8_0YxbH"
      }
    },
    {
      "cell_type": "code",
      "source": [
        "for x in range(0,5):\n",
        "  print(x)"
      ],
      "metadata": {
        "colab": {
          "base_uri": "https://localhost:8080/"
        },
        "id": "xIEBVUToYwaB",
        "outputId": "b5312293-c14f-4168-8ca3-bce1e58ffda0"
      },
      "execution_count": null,
      "outputs": [
        {
          "output_type": "stream",
          "name": "stdout",
          "text": [
            "0\n",
            "1\n",
            "2\n",
            "3\n",
            "4\n"
          ]
        }
      ]
    },
    {
      "cell_type": "markdown",
      "source": [
        "Question 2  What is true about this code?  \n",
        "\n",
        "     value1 = 5 ** 2\n",
        "     value2 = \"5 * 3\"\n",
        "     print(value1, value2)"
      ],
      "metadata": {
        "id": "q8_DoCw4ZREy"
      }
    },
    {
      "cell_type": "code",
      "source": [
        "value1 = 5**2\n",
        "value2 = \"5 * 3\"\n",
        "print(value1, value2)"
      ],
      "metadata": {
        "colab": {
          "base_uri": "https://localhost:8080/"
        },
        "id": "5eTu7mxDZarf",
        "outputId": "1bae0603-5deb-463a-f408-bc98b187e40c"
      },
      "execution_count": null,
      "outputs": [
        {
          "output_type": "stream",
          "name": "stdout",
          "text": [
            "25 5 * 3\n"
          ]
        }
      ]
    },
    {
      "cell_type": "markdown",
      "source": [
        "Question 3  What is true about the following code? Multiple answers\n",
        "\n",
        "for i in range(10, 16, 2):\n",
        "     print(i)"
      ],
      "metadata": {
        "id": "gROFQMaoZzB2"
      }
    },
    {
      "cell_type": "code",
      "source": [
        "for i in range(10, 16, 2):\n",
        "  print(i)"
      ],
      "metadata": {
        "colab": {
          "base_uri": "https://localhost:8080/"
        },
        "id": "9Sn85zQ1Z3PG",
        "outputId": "6a50c6d8-2732-4147-ffc8-170bc812cce8"
      },
      "execution_count": null,
      "outputs": [
        {
          "output_type": "stream",
          "name": "stdout",
          "text": [
            "10\n",
            "12\n",
            "14\n"
          ]
        }
      ]
    },
    {
      "cell_type": "markdown",
      "source": [
        "Question 4 The ‘in’ operator is used to check if a value exists within a list. It results in \"True\" if it finds an item in the list and False if it does not find an item in the list."
      ],
      "metadata": {
        "id": "5PgGX5hHaJFt"
      }
    },
    {
      "cell_type": "code",
      "source": [
        "animals=['fox', 'dog', 'bird']\n",
        "for animal in animals:\n",
        "  if animal =='fox':\n",
        "    print(animal =='fox')\n",
        "  else:\n",
        "    print(f\"{animal} is not a fox\")\n"
      ],
      "metadata": {
        "colab": {
          "base_uri": "https://localhost:8080/"
        },
        "id": "T1Gb9XHgaNab",
        "outputId": "e5923bec-0b1e-4cfa-83d9-2252e2bead50"
      },
      "execution_count": null,
      "outputs": [
        {
          "output_type": "stream",
          "name": "stdout",
          "text": [
            "True\n",
            "dog is not a fox\n",
            "bird is not a fox\n"
          ]
        }
      ]
    },
    {
      "cell_type": "markdown",
      "source": [
        "Question 5 What is true about  the following code? Multiple Answers\n",
        "\n",
        "students=['Mohan', 'John', 'Ramesh', 'Mohan', 'John']\n",
        "print(\"List of Students:\", students)\n",
        "team=set(students)\n",
        "print(\"The team has:\",team)"
      ],
      "metadata": {
        "id": "yfBK8iihbgRD"
      }
    },
    {
      "cell_type": "code",
      "source": [
        "students=['Mohan', 'John', 'Ramesh', 'Mohan', 'John']\n",
        "print(f\"List of Students: {students}\")\n",
        "team=set(students)\n",
        "#team.append(\"abdul\")\n",
        "print(team)\n",
        "print(f\"'The set team has: {team}.\")\n",
        "team2=tuple(students)\n",
        "print(f\"The tupple team has: {team2}\")"
      ],
      "metadata": {
        "colab": {
          "base_uri": "https://localhost:8080/"
        },
        "id": "ZPUTFgOjbp-q",
        "outputId": "e7a8fe3f-0673-4e35-9b25-60fd36f761ea"
      },
      "execution_count": null,
      "outputs": [
        {
          "output_type": "stream",
          "name": "stdout",
          "text": [
            "List of Students: ['Mohan', 'John', 'Ramesh', 'Mohan', 'John']\n",
            "{'Mohan', 'Ramesh', 'John'}\n",
            "'The set team has: {'Mohan', 'Ramesh', 'John'}.\n",
            "The tupple team has: ('Mohan', 'John', 'Ramesh', 'Mohan', 'John')\n"
          ]
        }
      ]
    },
    {
      "cell_type": "markdown",
      "source": [
        "Question 6 What is the output of the following code?\n",
        "\n",
        "sampleList = [\"Jon\", \"Kelly\", \"Jessa\"]\n",
        "\n",
        "sampleList.append(\"Scott\")\n",
        "\n",
        "print(sampleList)"
      ],
      "metadata": {
        "id": "EKjlPrtMcVQk"
      }
    },
    {
      "cell_type": "code",
      "source": [
        "sampleList = [\"Jon\", \"Kelly\", \"Jessa\"]\n",
        "sampleList.append(\"Scott\")\n",
        "print(sampleList)\n",
        "\n"
      ],
      "metadata": {
        "colab": {
          "base_uri": "https://localhost:8080/"
        },
        "id": "x1QYSqJ0eGMI",
        "outputId": "5d05b256-3cf4-4ce9-8b63-3a4d26567cec"
      },
      "execution_count": null,
      "outputs": [
        {
          "output_type": "stream",
          "name": "stdout",
          "text": [
            "['Jon', 'Kelly', 'Jessa', 'Scott']\n"
          ]
        }
      ]
    },
    {
      "cell_type": "markdown",
      "source": [
        "Question 7 The following code does not work.  . Write code that works below when a =  2  and when a = 400.  Write the code in this canvas essay section:\n",
        "a= 2\n",
        "b = \"330\"\n",
        "if a > b:\n",
        "  print(\"a\")\n",
        "else:\n",
        "  print(\"b\")"
      ],
      "metadata": {
        "id": "VJ6szlQ3e-22"
      }
    },
    {
      "cell_type": "code",
      "source": [
        "a = 2\n",
        "b = 330\n",
        "if a > b:\n",
        "  print(\"a\")\n",
        "else:\n",
        "  print(\"b\")"
      ],
      "metadata": {
        "colab": {
          "base_uri": "https://localhost:8080/"
        },
        "id": "0ejxExQQfQ5o",
        "outputId": "dd4d1b27-7a62-443d-b8ca-e5a9b26d40b2"
      },
      "execution_count": null,
      "outputs": [
        {
          "output_type": "stream",
          "name": "stdout",
          "text": [
            "b\n"
          ]
        }
      ]
    },
    {
      "cell_type": "code",
      "source": [
        "a = 400\n",
        "b = 330\n",
        "if a > b:\n",
        "  print(\"a\")\n",
        "else:\n",
        "  print(\"b\")"
      ],
      "metadata": {
        "colab": {
          "base_uri": "https://localhost:8080/"
        },
        "id": "ni2ZvalggNCQ",
        "outputId": "255b81ab-2210-41d9-bfbf-2d3320ba4472"
      },
      "execution_count": null,
      "outputs": [
        {
          "output_type": "stream",
          "name": "stdout",
          "text": [
            "a\n"
          ]
        }
      ]
    },
    {
      "cell_type": "markdown",
      "source": [
        "This is change the value for the print"
      ],
      "metadata": {
        "id": "2WXmbwH0gvQR"
      }
    },
    {
      "cell_type": "code",
      "source": [
        "a = 400\n",
        "b = 330\n",
        "if a > b:\n",
        "  print(a)\n",
        "else:\n",
        "  print(b)"
      ],
      "metadata": {
        "colab": {
          "base_uri": "https://localhost:8080/"
        },
        "id": "hue0UvNOgjfa",
        "outputId": "577d1fa4-1d4f-481a-ca13-f1d0b037af85"
      },
      "execution_count": null,
      "outputs": [
        {
          "output_type": "stream",
          "name": "stdout",
          "text": [
            "400\n"
          ]
        }
      ]
    },
    {
      "cell_type": "markdown",
      "source": [
        "What is the output of\n",
        "a = 200\n",
        "b = 33\n",
        "c = 500\n",
        "if a > b and c > a:\n",
        "    print(\"Both conditions are True\")\n",
        "else:\n",
        "    print(\"200>33 and 500>200\")"
      ],
      "metadata": {
        "id": "AYkhznKzg1GX"
      }
    },
    {
      "cell_type": "code",
      "source": [
        "a = 200\n",
        "b = 33\n",
        "c = 500\n",
        "if a > b and c > a:\n",
        "    print(\"Both conditions are True\")\n",
        "else:\n",
        "    print(\"200>33 and 500>200\")"
      ],
      "metadata": {
        "colab": {
          "base_uri": "https://localhost:8080/"
        },
        "id": "0Zsym8mQhIbZ",
        "outputId": "4d3bbf85-1d63-48e8-84c3-632e1d40077c"
      },
      "execution_count": null,
      "outputs": [
        {
          "output_type": "stream",
          "name": "stdout",
          "text": [
            "Both conditions are True\n"
          ]
        }
      ]
    },
    {
      "cell_type": "markdown",
      "source": [
        "Question 8  What is true about the output of\n",
        "fruits = [\"apple\", \"banana\", \"cherry\"]\n",
        "for x in fruits:\n",
        "    if x == \"banana\":\n",
        "        print(x)\n",
        "        Fix question"
      ],
      "metadata": {
        "id": "SkZrz4BohVRN"
      }
    },
    {
      "cell_type": "code",
      "source": [
        "fruits = [\"apple\", \"banana\", \"banana\"]\n",
        "for x in fruits:\n",
        "  if x == \"banana\":\n",
        "\n",
        "    print(x)"
      ],
      "metadata": {
        "colab": {
          "base_uri": "https://localhost:8080/"
        },
        "id": "XR7WwkHhhprB",
        "outputId": "b467225b-bcf6-4180-da2a-dbb854a4374f"
      },
      "execution_count": null,
      "outputs": [
        {
          "output_type": "stream",
          "name": "stdout",
          "text": [
            "banana\n",
            "banana\n"
          ]
        }
      ]
    },
    {
      "cell_type": "markdown",
      "source": [
        "Question 9 What is true about the following code? multiple answers\n",
        "\n",
        "adj = [\"red\", \"yellow\"]\n",
        "fruits = [\"apple\", \"banana\"]\n",
        "for x in adj:  \n",
        "   for y in fruits:\n",
        "      print(x, y)"
      ],
      "metadata": {
        "id": "DB0KTbM8iCnV"
      }
    },
    {
      "cell_type": "markdown",
      "source": [
        "adj = [\"red\", \"yellow\"]\n",
        "fruits = [\"apple\", \"banana\"]\n",
        "for x in adj:  \n",
        "   for y in fruits:\n",
        "      print(x, y)"
      ],
      "metadata": {
        "id": "OsfVESRziLiF"
      }
    },
    {
      "cell_type": "code",
      "source": [
        "adj = [\"red\", \"yellow\"]\n",
        "fruits = [\"apple\", \"banana\"]\n",
        "for x in adj:\n",
        "   for y in fruits:\n",
        "      print(x, y)"
      ],
      "metadata": {
        "colab": {
          "base_uri": "https://localhost:8080/"
        },
        "id": "9OWnbCD0ih5B",
        "outputId": "e49196f4-14ee-4657-9447-0627497bdac3"
      },
      "execution_count": null,
      "outputs": [
        {
          "output_type": "stream",
          "name": "stdout",
          "text": [
            "red apple\n",
            "red banana\n",
            "yellow apple\n",
            "yellow banana\n"
          ]
        }
      ]
    },
    {
      "cell_type": "code",
      "source": [
        "adj = {\"red\", \"yellow\"}\n",
        "fruits = {\"apple\", \"banana\"}\n",
        "for x in adj:\n",
        "   for y in fruits:\n",
        "      print(f\"set is {x}, {y}\")"
      ],
      "metadata": {
        "colab": {
          "base_uri": "https://localhost:8080/"
        },
        "id": "Ug7mvzCtisR1",
        "outputId": "2bf13cbd-3d44-446c-ff09-ccbcff27cfac"
      },
      "execution_count": null,
      "outputs": [
        {
          "output_type": "stream",
          "name": "stdout",
          "text": [
            "set is red, banana\n",
            "set is red, apple\n",
            "set is yellow, banana\n",
            "set is yellow, apple\n"
          ]
        }
      ]
    },
    {
      "cell_type": "code",
      "source": [
        "adj = (\"red\", \"yellow\")\n",
        "fruits = (\"apple\", \"banana\")\n",
        "for x in adj:\n",
        "   for y in fruits:\n",
        "      print(f\"tupple is {x}, {y}\")"
      ],
      "metadata": {
        "colab": {
          "base_uri": "https://localhost:8080/"
        },
        "id": "K_wfbE_Hi_j8",
        "outputId": "19cdc025-9ca9-40fd-ebf0-2469fb7bacdb"
      },
      "execution_count": null,
      "outputs": [
        {
          "output_type": "stream",
          "name": "stdout",
          "text": [
            "tupple is red, apple\n",
            "tupple is red, banana\n",
            "tupple is yellow, apple\n",
            "tupple is yellow, banana\n"
          ]
        }
      ]
    },
    {
      "cell_type": "markdown",
      "source": [
        "Question 10 What is the output of\n",
        "\n",
        "adj = [\"red\", \"yellow\"]\n",
        "fruits = [\"apple\", \"banana\"]\n",
        "for x in fruits:\n",
        "     if x==\"apple\": print(adj[0], x)\n",
        "     else: print(adj[1], x)"
      ],
      "metadata": {
        "id": "yVoJqrWTjR8j"
      }
    },
    {
      "cell_type": "code",
      "source": [
        "adj = [\"red\", \"yellow\"]\n",
        "fruits = [\"apple\", \"banana\"]\n",
        "for x in fruits:\n",
        "     if x==\"apple\": print(adj[0], x)\n",
        "     else: print(adj[1], x)"
      ],
      "metadata": {
        "colab": {
          "base_uri": "https://localhost:8080/"
        },
        "id": "l2LGi7ESjebs",
        "outputId": "cb45c33d-3a20-43fa-8661-e9f611896f59"
      },
      "execution_count": null,
      "outputs": [
        {
          "output_type": "stream",
          "name": "stdout",
          "text": [
            "red apple\n",
            "yellow banana\n"
          ]
        }
      ]
    },
    {
      "cell_type": "markdown",
      "source": [
        "Question 11 What is the output of the following code?\n",
        "What is the output of the following code?\n",
        "\n",
        "sampleList = [\"Jon\", \"Kelly\", \"Jessa\"]\n",
        "\n",
        "sampleList.insert(2, \"Scott\")\n",
        "\n",
        "print(sampleList)"
      ],
      "metadata": {
        "id": "CKPUAAPAj1Or"
      }
    },
    {
      "cell_type": "code",
      "source": [
        "sampleList = [\"Jon\", \"Kelly\", \"Jessa\"]\n",
        "sampleList.insert(2, \"Scott\")\n",
        "print(sampleList)"
      ],
      "metadata": {
        "colab": {
          "base_uri": "https://localhost:8080/"
        },
        "id": "o9vLI2_aj6H7",
        "outputId": "bd2d1ef6-3625-49fb-cf92-6d435d148a37"
      },
      "execution_count": null,
      "outputs": [
        {
          "output_type": "stream",
          "name": "stdout",
          "text": [
            "['Jon', 'Kelly', 'Scott', 'Jessa']\n"
          ]
        }
      ]
    },
    {
      "cell_type": "markdown",
      "source": [
        "Question 12 What is the output of\n",
        "set1 = {'b', 'g', 'd', 'e', 'b'}\n",
        "print(sorted(set1))"
      ],
      "metadata": {
        "id": "iYpgoNYlkSjv"
      }
    },
    {
      "cell_type": "code",
      "source": [
        "set1 = {'b', 'g', 'd', 'e', 'b'}\n",
        "print(set1)\n",
        "print(sorted(set1))"
      ],
      "metadata": {
        "id": "gAVQZd7pkowr",
        "colab": {
          "base_uri": "https://localhost:8080/"
        },
        "outputId": "c0d4e8b9-27af-4cdb-d39f-63a696d5094c"
      },
      "execution_count": null,
      "outputs": [
        {
          "output_type": "stream",
          "name": "stdout",
          "text": [
            "{'d', 'e', 'b', 'g'}\n",
            "['b', 'd', 'e', 'g']\n"
          ]
        }
      ]
    },
    {
      "cell_type": "code",
      "source": [
        "set1 = {'b', 'g', 'd', 'e', 'b'}\n",
        "set1.sort()\n",
        "print(set1)"
      ],
      "metadata": {
        "id": "quoTZ0wQksF_",
        "colab": {
          "base_uri": "https://localhost:8080/",
          "height": 211
        },
        "outputId": "26beee70-9b50-48b3-a435-5af010b0817f"
      },
      "execution_count": null,
      "outputs": [
        {
          "output_type": "error",
          "ename": "AttributeError",
          "evalue": "ignored",
          "traceback": [
            "\u001b[0;31m---------------------------------------------------------------------------\u001b[0m",
            "\u001b[0;31mAttributeError\u001b[0m                            Traceback (most recent call last)",
            "\u001b[0;32m<ipython-input-8-046f867e13c4>\u001b[0m in \u001b[0;36m<cell line: 2>\u001b[0;34m()\u001b[0m\n\u001b[1;32m      1\u001b[0m \u001b[0mset1\u001b[0m \u001b[0;34m=\u001b[0m \u001b[0;34m{\u001b[0m\u001b[0;34m'b'\u001b[0m\u001b[0;34m,\u001b[0m \u001b[0;34m'g'\u001b[0m\u001b[0;34m,\u001b[0m \u001b[0;34m'd'\u001b[0m\u001b[0;34m,\u001b[0m \u001b[0;34m'e'\u001b[0m\u001b[0;34m,\u001b[0m \u001b[0;34m'b'\u001b[0m\u001b[0;34m}\u001b[0m\u001b[0;34m\u001b[0m\u001b[0;34m\u001b[0m\u001b[0m\n\u001b[0;32m----> 2\u001b[0;31m \u001b[0mset1\u001b[0m\u001b[0;34m.\u001b[0m\u001b[0msort\u001b[0m\u001b[0;34m(\u001b[0m\u001b[0;34m)\u001b[0m\u001b[0;34m\u001b[0m\u001b[0;34m\u001b[0m\u001b[0m\n\u001b[0m\u001b[1;32m      3\u001b[0m \u001b[0mprint\u001b[0m\u001b[0;34m(\u001b[0m\u001b[0mset1\u001b[0m\u001b[0;34m)\u001b[0m\u001b[0;34m\u001b[0m\u001b[0;34m\u001b[0m\u001b[0m\n",
            "\u001b[0;31mAttributeError\u001b[0m: 'set' object has no attribute 'sort'"
          ]
        }
      ]
    },
    {
      "cell_type": "markdown",
      "source": [
        ".sort is a method and will only be applicable on lists"
      ],
      "metadata": {
        "id": "MmZGadKrLqVk"
      }
    },
    {
      "cell_type": "markdown",
      "source": [
        "Question 13 What is the output of\n",
        "\n",
        "adj = [\"red\", \"yellow\"]\n",
        "fruits = [\"apple\", \"banana\"]\n",
        "for x in fruits:\n",
        "     if x==\"apple\": print(adj[0], x)\n",
        "     else: print(adj[1], x)"
      ],
      "metadata": {
        "id": "ELzzBxOcMLqt"
      }
    },
    {
      "cell_type": "code",
      "source": [
        "adj = [\"red\", \"yellow\"]\n",
        "fruits = [\"apple\", \"banana\"]\n",
        "for x in fruits:\n",
        "  print(x)\n",
        "  if x==\"apple\":\n",
        "    print(adj[0], x)\n",
        "  else: print(adj[1], x)"
      ],
      "metadata": {
        "colab": {
          "base_uri": "https://localhost:8080/"
        },
        "id": "Jg4IPNIZMU2e",
        "outputId": "5c0720b6-0eff-43f9-82f9-5dffc6b200a5"
      },
      "execution_count": null,
      "outputs": [
        {
          "output_type": "stream",
          "name": "stdout",
          "text": [
            "apple\n",
            "red apple\n",
            "banana\n",
            "yellow banana\n"
          ]
        }
      ]
    },
    {
      "cell_type": "markdown",
      "source": [
        "Question 14  What is the output: sampleList = [\"Jon\", \"Kelly\", \"Jessa\"]\n",
        "sampleList.insert(2, \"Scott\")\n",
        "print(sampleList)\n"
      ],
      "metadata": {
        "id": "fQS2vfPDNA87"
      }
    },
    {
      "cell_type": "code",
      "source": [
        "sampleList = [\"Jon\", \"Kelly\", \"Jessa\"]\n",
        "sampleList.insert(2, \"Scott\")\n",
        "print(sampleList)"
      ],
      "metadata": {
        "colab": {
          "base_uri": "https://localhost:8080/"
        },
        "id": "B9JOW7IBNOXl",
        "outputId": "9cd0f60d-886a-4177-f061-f166d39984c8"
      },
      "execution_count": null,
      "outputs": [
        {
          "output_type": "stream",
          "name": "stdout",
          "text": [
            "['Jon', 'Kelly', 'Scott', 'Jessa']\n"
          ]
        }
      ]
    },
    {
      "cell_type": "markdown",
      "source": [
        "Question 15 set1 = {'b', 'g', 'd', 'e', 'b'}\n",
        "print(sorted(set1))"
      ],
      "metadata": {
        "id": "73sPGNAtNxQD"
      }
    },
    {
      "cell_type": "code",
      "source": [
        "set1 = {'b', 'g', 'd', 'e', 'b'}\n",
        "\n",
        "print(sorted(set1))"
      ],
      "metadata": {
        "colab": {
          "base_uri": "https://localhost:8080/"
        },
        "id": "wp0F7T2FN7VM",
        "outputId": "4bf274d4-249a-47f1-87f4-fbada964ec86"
      },
      "execution_count": null,
      "outputs": [
        {
          "output_type": "stream",
          "name": "stdout",
          "text": [
            "['b', 'd', 'e', 'g']\n"
          ]
        }
      ]
    },
    {
      "cell_type": "markdown",
      "source": [
        "Question 16 What is the output: Friday = False\n",
        "if Friday:\n",
        "     print (\"Casual day!\")\n",
        "else:\n",
        "     print (\"Dress code\")"
      ],
      "metadata": {
        "id": "bozKUZ63OIhI"
      }
    },
    {
      "cell_type": "code",
      "source": [
        "Friday = False\n",
        "if Friday:\n",
        "     print (\"Casual day!\")\n",
        "else:\n",
        "     print (\"Dress code\")"
      ],
      "metadata": {
        "colab": {
          "base_uri": "https://localhost:8080/"
        },
        "id": "Rg_-gAuzOqEw",
        "outputId": "f3ea51b1-c3c5-4e46-c7c6-db04b16f219f"
      },
      "execution_count": null,
      "outputs": [
        {
          "output_type": "stream",
          "name": "stdout",
          "text": [
            "Dress code\n"
          ]
        }
      ]
    },
    {
      "cell_type": "markdown",
      "source": [
        "Old: Question 17 What is true about the following code: groceries = [\"eggs\", \"bread\", \"milk\"]\n",
        "print (groceries[-1])"
      ],
      "metadata": {
        "id": "yzQpNHjWPhyM"
      }
    },
    {
      "cell_type": "code",
      "source": [
        "groceries = [\"eggs\", \"bread\", \"milk\"]\n",
        "print (groceries[-1])"
      ],
      "metadata": {
        "colab": {
          "base_uri": "https://localhost:8080/"
        },
        "id": "E_Vt35qBPvf9",
        "outputId": "68531afc-219c-415e-ed42-0a4858959042"
      },
      "execution_count": null,
      "outputs": [
        {
          "output_type": "stream",
          "name": "stdout",
          "text": [
            "milk\n"
          ]
        }
      ]
    },
    {
      "cell_type": "code",
      "source": [
        "groceries = (\"eggs\", \"bread\", \"milk\")\n",
        "print(type(groceries))\n",
        "print (groceries[-1])"
      ],
      "metadata": {
        "colab": {
          "base_uri": "https://localhost:8080/"
        },
        "id": "P1OzfLPmQINA",
        "outputId": "f316655f-491a-44da-f65d-bdf34fa13394"
      },
      "execution_count": null,
      "outputs": [
        {
          "output_type": "stream",
          "name": "stdout",
          "text": [
            "<class 'tuple'>\n",
            "milk\n"
          ]
        }
      ]
    },
    {
      "cell_type": "code",
      "source": [
        "groceries = {\"eggs\", \"bread\", \"milk\"}\n",
        "print(type(groceries))\n",
        "print (groceries[-1])"
      ],
      "metadata": {
        "colab": {
          "base_uri": "https://localhost:8080/",
          "height": 265
        },
        "id": "75aL_h9_QZIH",
        "outputId": "344c8123-957e-40f9-aafb-7c13f4d415e4"
      },
      "execution_count": null,
      "outputs": [
        {
          "output_type": "stream",
          "name": "stdout",
          "text": [
            "<class 'set'>\n"
          ]
        },
        {
          "output_type": "error",
          "ename": "TypeError",
          "evalue": "ignored",
          "traceback": [
            "\u001b[0;31m---------------------------------------------------------------------------\u001b[0m",
            "\u001b[0;31mTypeError\u001b[0m                                 Traceback (most recent call last)",
            "\u001b[0;32m<ipython-input-15-b806c036880e>\u001b[0m in \u001b[0;36m<cell line: 3>\u001b[0;34m()\u001b[0m\n\u001b[1;32m      1\u001b[0m \u001b[0mgroceries\u001b[0m \u001b[0;34m=\u001b[0m \u001b[0;34m{\u001b[0m\u001b[0;34m\"eggs\"\u001b[0m\u001b[0;34m,\u001b[0m \u001b[0;34m\"bread\"\u001b[0m\u001b[0;34m,\u001b[0m \u001b[0;34m\"milk\"\u001b[0m\u001b[0;34m}\u001b[0m\u001b[0;34m\u001b[0m\u001b[0;34m\u001b[0m\u001b[0m\n\u001b[1;32m      2\u001b[0m \u001b[0mprint\u001b[0m\u001b[0;34m(\u001b[0m\u001b[0mtype\u001b[0m\u001b[0;34m(\u001b[0m\u001b[0mgroceries\u001b[0m\u001b[0;34m)\u001b[0m\u001b[0;34m)\u001b[0m\u001b[0;34m\u001b[0m\u001b[0;34m\u001b[0m\u001b[0m\n\u001b[0;32m----> 3\u001b[0;31m \u001b[0mprint\u001b[0m \u001b[0;34m(\u001b[0m\u001b[0mgroceries\u001b[0m\u001b[0;34m[\u001b[0m\u001b[0;34m-\u001b[0m\u001b[0;36m1\u001b[0m\u001b[0;34m]\u001b[0m\u001b[0;34m)\u001b[0m\u001b[0;34m\u001b[0m\u001b[0;34m\u001b[0m\u001b[0m\n\u001b[0m",
            "\u001b[0;31mTypeError\u001b[0m: 'set' object is not subscriptable"
          ]
        }
      ]
    },
    {
      "cell_type": "markdown",
      "source": [
        "Question 16 What type of collection is {'a', 'b', 'c'}?"
      ],
      "metadata": {
        "id": "nx2sYkhGQ1bv"
      }
    },
    {
      "cell_type": "code",
      "source": [
        "s= {'a', 'b', 'c'}\n",
        "type(s)"
      ],
      "metadata": {
        "colab": {
          "base_uri": "https://localhost:8080/"
        },
        "id": "gQaef6tvQ4jU",
        "outputId": "8b23f244-b964-4774-8c3c-3da8ff5dabac"
      },
      "execution_count": null,
      "outputs": [
        {
          "output_type": "execute_result",
          "data": {
            "text/plain": [
              "set"
            ]
          },
          "metadata": {},
          "execution_count": 16
        }
      ]
    },
    {
      "cell_type": "markdown",
      "source": [],
      "metadata": {
        "id": "_2rQQez0P-2U"
      }
    },
    {
      "cell_type": "markdown",
      "source": [
        "Question 17  Store the names of three of your friends in a list called names.  Then use a for loop to print a message to each of them. The text of each message should be the same, but each message should include the person’s name. Write it 3 ways\n",
        "\n"
      ],
      "metadata": {
        "id": "2T-NDeLfRIoU"
      }
    },
    {
      "cell_type": "code",
      "source": [
        "names=['bart','homer','lisa']\n",
        "for name in names:\n",
        "  print(f\"My friend {name} is terrific. with fstatement\")\n",
        "  print(\"My friend\", name, \"is terrific. comma\")\n",
        "  print(\"My friend \" +name +\" is terrific.with +\")\n",
        "a='My friend'\n",
        "b='is terrific'\n",
        "c = \"concatenation\"\n",
        "d = a +\" \" +name +\" \" +b +\" \" +c\n",
        "\n",
        "print(d)"
      ],
      "metadata": {
        "colab": {
          "base_uri": "https://localhost:8080/"
        },
        "id": "GpuuibXDRX4q",
        "outputId": "2130546d-6318-44bc-e332-d04766d01138"
      },
      "execution_count": null,
      "outputs": [
        {
          "output_type": "stream",
          "name": "stdout",
          "text": [
            "My friend bart is terrific. with fstatement\n",
            "My friend bart is terrific. comma\n",
            "My friend bart is terrific.with +\n",
            "My friend homer is terrific. with fstatement\n",
            "My friend homer is terrific. comma\n",
            "My friend homer is terrific.with +\n",
            "My friend lisa is terrific. with fstatement\n",
            "My friend lisa is terrific. comma\n",
            "My friend lisa is terrific.with +\n",
            "My friend lisa is terrific concatenation\n"
          ]
        }
      ]
    },
    {
      "cell_type": "markdown",
      "source": [
        "Question 18 Reading the code:"
      ],
      "metadata": {
        "id": "mU4YbcL4Yo8i"
      }
    },
    {
      "cell_type": "code",
      "source": [
        "animals=[\"monkey\", \"dog\", \"cat\", \"donkey\", \"bird\", \"deer\"]\n",
        "animals2=[]\n",
        "for animal in animals[:]:\n",
        "  print(animal)\n",
        "  if len(animal)==3:\n",
        "    print(animals)\n",
        "    print(f\" this is {animal} in {animals2}\")\n",
        "    animals.remove(animal)\n",
        "    animals2.append(animal)\n",
        "    print(f\" this is {animal} in {animals2}\")\n",
        "    print(f\" this is {animals}\")\n",
        "  else:\n",
        "    continue\n",
        "print(f'this is {animals}')\n",
        "print(f'this is {animals2}')"
      ],
      "metadata": {
        "colab": {
          "base_uri": "https://localhost:8080/"
        },
        "id": "6d2VkV0LYu5J",
        "outputId": "1208dde4-0cc8-4782-e5c4-69fcb090f9fb"
      },
      "execution_count": null,
      "outputs": [
        {
          "output_type": "stream",
          "name": "stdout",
          "text": [
            "monkey\n",
            "dog\n",
            "['monkey', 'dog', 'cat', 'donkey', 'bird', 'deer']\n",
            " this is dog in []\n",
            " this is dog in ['dog']\n",
            " this is ['monkey', 'cat', 'donkey', 'bird', 'deer']\n",
            "cat\n",
            "['monkey', 'cat', 'donkey', 'bird', 'deer']\n",
            " this is cat in ['dog']\n",
            " this is cat in ['dog', 'cat']\n",
            " this is ['monkey', 'donkey', 'bird', 'deer']\n",
            "donkey\n",
            "bird\n",
            "deer\n",
            "this is ['monkey', 'donkey', 'bird', 'deer']\n",
            "this is ['dog', 'cat']\n"
          ]
        }
      ]
    },
    {
      "cell_type": "markdown",
      "source": [
        "Question 19 To share your Colab homework with your instructors you should select Share and then select everyone in the MU community as a Viewer:\n",
        "\n",
        " Answer True"
      ],
      "metadata": {
        "id": "2_BLEEALZNLk"
      }
    },
    {
      "cell_type": "markdown",
      "source": [
        "Question 20 Create an if-elif-else chain that prints three messages:  \"low\" if a number is between 0 and 10, \"middle\" if the number is between 10 and 20, and \"high\" if the number is greater than 20.\n",
        "\n",
        "Now create a list of three numbers with one number between 0 and 10, another number between 10 and 20, and the third number greater than 20.\n",
        "\n",
        "Now create a for loop that loops through the list and prints the three messages according to the  if-elif-else chain."
      ],
      "metadata": {
        "id": "VO_ZIKuzZftZ"
      }
    },
    {
      "cell_type": "code",
      "source": [
        "nums=[5,10,15,20,25]\n",
        "for num in nums:\n",
        "  if num <10:\n",
        "    print(f\"{num} is less than  or equal to 10\")\n",
        "  elif num <=20:\n",
        "    print(f\"{num} is less than or equal to 20\")\n",
        "  else:\n",
        "    print(f\"{num} is greater than 20.\")\n"
      ],
      "metadata": {
        "colab": {
          "base_uri": "https://localhost:8080/"
        },
        "id": "hz01SJNjZ00x",
        "outputId": "095f5459-1084-442b-d5f5-b64dfa538c6c"
      },
      "execution_count": null,
      "outputs": [
        {
          "output_type": "stream",
          "name": "stdout",
          "text": [
            "5 is less than  or equal to 10\n",
            "10 is less than or equal to 20\n",
            "15 is less than or equal to 20\n",
            "20 is less than or equal to 20\n",
            "25 is greater than 20.\n"
          ]
        }
      ]
    },
    {
      "cell_type": "markdown",
      "source": [
        "Question 21: While loops - 4 ways to end a while loop -- Method 1 a counter"
      ],
      "metadata": {
        "id": "1mviSGgGcNsK"
      }
    },
    {
      "cell_type": "code",
      "source": [
        "\n"
      ],
      "metadata": {
        "id": "oZR-jlMWg4HD"
      },
      "execution_count": null,
      "outputs": []
    },
    {
      "cell_type": "code",
      "source": [
        "counter = 1\n",
        "while counter <=3:\n",
        "  print(f\"The counter is {counter}\")\n",
        "  counter +=1\n",
        "\n",
        "\n"
      ],
      "metadata": {
        "id": "3NI3-K40cZQT",
        "colab": {
          "base_uri": "https://localhost:8080/"
        },
        "outputId": "7c786d86-3991-4108-e3a6-39a6004d421f"
      },
      "execution_count": null,
      "outputs": [
        {
          "output_type": "stream",
          "name": "stdout",
          "text": [
            "The counter is 1\n",
            "The counter is 2\n",
            "The counter is 3\n"
          ]
        }
      ]
    },
    {
      "cell_type": "markdown",
      "source": [
        "Method 2 - a message"
      ],
      "metadata": {
        "id": "Bfvg-8T3eX9U"
      }
    },
    {
      "cell_type": "code",
      "source": [
        "x =\"\"\n",
        "while x != \"quit\":\n",
        "  x=input(\"What's your name my friend?\")\n",
        "  print(x)\n"
      ],
      "metadata": {
        "id": "IUs3oq-9ecZl",
        "colab": {
          "base_uri": "https://localhost:8080/"
        },
        "outputId": "6ec03061-3f77-49d7-ea0d-fe43ca783212"
      },
      "execution_count": null,
      "outputs": [
        {
          "output_type": "stream",
          "name": "stdout",
          "text": [
            "What's your name my friend?sue\n",
            "sue\n",
            "What's your name my friend?quit\n",
            "quit\n"
          ]
        }
      ]
    },
    {
      "cell_type": "markdown",
      "source": [
        "Method 3 - a flag"
      ],
      "metadata": {
        "id": "06IicVHsfJKA"
      }
    },
    {
      "cell_type": "code",
      "source": [
        "x=\"Tell me what you think.\"\n",
        "active = True\n",
        "while active:\n",
        "  msg=input(x)\n",
        "  if msg=='NO':\n",
        "    active=False\n",
        "    print(\"Thanks for your thoughts\")\n",
        "  else:\n",
        "    print(msg)"
      ],
      "metadata": {
        "colab": {
          "base_uri": "https://localhost:8080/"
        },
        "id": "eH4Sbhmify2A",
        "outputId": "4dcd9845-e296-4ac5-9c28-bd2215e28118"
      },
      "execution_count": null,
      "outputs": [
        {
          "output_type": "stream",
          "name": "stdout",
          "text": [
            "Tell me what you think.no\n",
            "no\n",
            "Tell me what you think.NO\n",
            "Thanks for your thoughts\n"
          ]
        }
      ]
    },
    {
      "cell_type": "markdown",
      "source": [
        "Method 4 - break"
      ],
      "metadata": {
        "id": "SbTspEGGhHVV"
      }
    },
    {
      "cell_type": "code",
      "source": [
        "x=\"Tell me what you think.\"\n",
        "active = True\n",
        "while active:\n",
        "  msg=input(x)\n",
        "  if msg=='quit':\n",
        "    print(\"Thanks for your thoughts\")\n",
        "    break\n",
        "  else:\n",
        "    print(msg)"
      ],
      "metadata": {
        "colab": {
          "base_uri": "https://localhost:8080/"
        },
        "id": "kjiNy3ilhai8",
        "outputId": "bd255d5a-0e64-463c-d307-efc43c4a76bf"
      },
      "execution_count": null,
      "outputs": [
        {
          "output_type": "stream",
          "name": "stdout",
          "text": [
            "Tell me what you think.great exam\n",
            "great exam\n",
            "Tell me what you think.quit\n",
            "Thanks for your thoughts\n"
          ]
        }
      ]
    },
    {
      "cell_type": "markdown",
      "source": [
        "This is other code not related to the test."
      ],
      "metadata": {
        "id": "J_IJLxT-h0Kq"
      }
    },
    {
      "cell_type": "code",
      "source": [
        "name=['mark', 'bog', 'sue']\n",
        "subusers=name[0:2]\n",
        "print(subusers)"
      ],
      "metadata": {
        "colab": {
          "base_uri": "https://localhost:8080/"
        },
        "id": "Uo9y90g9MZ0m",
        "outputId": "236001a6-ec82-4cb4-ee31-d0908a8ec66b"
      },
      "execution_count": null,
      "outputs": [
        {
          "output_type": "stream",
          "name": "stdout",
          "text": [
            "['mark', 'bog']\n"
          ]
        }
      ]
    },
    {
      "cell_type": "markdown",
      "source": [],
      "metadata": {
        "id": "MU01h29-YvZU"
      }
    },
    {
      "cell_type": "code",
      "source": [
        "for x in range(1,5):\n",
        "  print(x)"
      ],
      "metadata": {
        "colab": {
          "base_uri": "https://localhost:8080/"
        },
        "id": "nnzfJLTqNdKJ",
        "outputId": "a488a216-e0d9-42e8-d9b7-66dc8e14c03e"
      },
      "execution_count": null,
      "outputs": [
        {
          "output_type": "stream",
          "name": "stdout",
          "text": [
            "1\n",
            "2\n",
            "3\n",
            "4\n"
          ]
        }
      ]
    },
    {
      "cell_type": "code",
      "source": [
        "name1 = ['phil', 'sarah', 'erin']\n",
        "name2 = []\n",
        "while name1:\n",
        "  user = name1.pop(0)\n",
        "  print(user)\n",
        "  name2.append(user)\n",
        "print(name1)\n",
        "print(name2)\n"
      ],
      "metadata": {
        "colab": {
          "base_uri": "https://localhost:8080/"
        },
        "id": "d0fgC5uMJG6g",
        "outputId": "730909d2-4702-4891-bf26-0ae849ce34a1"
      },
      "execution_count": null,
      "outputs": [
        {
          "output_type": "stream",
          "name": "stdout",
          "text": [
            "phil\n",
            "sarah\n",
            "erin\n",
            "[]\n",
            "['phil', 'sarah', 'erin']\n"
          ]
        }
      ]
    },
    {
      "cell_type": "code",
      "source": [
        "names = ['phil', 'sarah', 'erin','phil']\n",
        "while 'phil' in names:\n",
        "     names.remove('phil')\n",
        "\n",
        "print(names)"
      ],
      "metadata": {
        "colab": {
          "base_uri": "https://localhost:8080/"
        },
        "id": "bVmvyLQgKpn5",
        "outputId": "efdbd81b-3011-487f-fd68-ee1294bd052d"
      },
      "execution_count": null,
      "outputs": [
        {
          "output_type": "stream",
          "name": "stdout",
          "text": [
            "['sarah', 'erin']\n"
          ]
        }
      ]
    },
    {
      "cell_type": "markdown",
      "source": [
        "Question 1: Create a range"
      ],
      "metadata": {
        "id": "hdxYjbN3-WDa"
      }
    },
    {
      "cell_type": "code",
      "execution_count": null,
      "metadata": {
        "id": "szaDoFyu-U5i"
      },
      "outputs": [],
      "source": [
        "numbers = range(11)  # Numbers from 0 to 10\n",
        "result_list = []\n",
        "\n",
        "for number in numbers:\n",
        "    incremented = number + 4\n",
        "    final_result = incremented / 2\n",
        "    result_list.append(final_result)\n",
        "    print(final_result)\n",
        "\n",
        "print(result_list)"
      ]
    },
    {
      "cell_type": "markdown",
      "source": [
        "write a program create a range 0-10 move even numbers to a list called even and odd numbers to a list called print both lists if fancy use the join command with an f statement\n"
      ],
      "metadata": {
        "id": "O14MM3NicwYV"
      }
    },
    {
      "cell_type": "code",
      "source": [
        "numbers = range(0,11)\n",
        "odd_nums =[]\n",
        "even_nums =[]\n",
        "for number in numbers:\n",
        "\n",
        "  if number % 2 == 0:\n",
        "    even_nums.append(number)\n",
        "  else:\n",
        "    odd_nums.append(number)\n",
        "print(odd_nums)\n",
        "print(even_nums)\n",
        "\n"
      ],
      "metadata": {
        "colab": {
          "base_uri": "https://localhost:8080/"
        },
        "id": "xt9augbFVkZu",
        "outputId": "fe2fce15-162f-4a24-c015-3b909f9a7139"
      },
      "execution_count": null,
      "outputs": [
        {
          "output_type": "stream",
          "name": "stdout",
          "text": [
            "[1, 3, 5, 7, 9]\n",
            "[0, 2, 4, 6, 8, 10]\n"
          ]
        }
      ]
    },
    {
      "cell_type": "markdown",
      "source": [
        "Countries"
      ],
      "metadata": {
        "id": "Ipug43ifAhVR"
      }
    },
    {
      "cell_type": "code",
      "source": [
        "\n",
        "countries_5 = [\"USA\", \"Canada\", \"UK\", \"Australia\", \"India\"]\n",
        "countries_2 = [\"UK\", \"India\", \"China\", \"Germany\"]\n",
        "no_countries = []\n",
        "for country in countries_2:\n",
        "  if country in countries_5:\n",
        "    print(f\"{country} is in both lists.\")\n",
        "  else:\n",
        "    no_countries.append(country)\n",
        "print(f\"\\nTotal countries in countries_5: {len(countries_5)}\")\n",
        "print(f\"Total countries in countries_2: {len(countries_2)}\")\n",
        "print(f\"Total countries in no_countries: {len(no_countries)}\")\n",
        "\n",
        "if no_countries:\n",
        "    print(\"\\nCountries not in the list of 5 countries:\")\n",
        "    for country in no_countries:\n",
        "        print(country)\n",
        "\n"
      ],
      "metadata": {
        "colab": {
          "base_uri": "https://localhost:8080/"
        },
        "id": "DszlI5ZlAg68",
        "outputId": "ce1668d6-49b8-4e79-ed18-ced4c7e46186"
      },
      "execution_count": null,
      "outputs": [
        {
          "output_type": "stream",
          "name": "stdout",
          "text": [
            "UK is in both lists.\n",
            "India is in both lists.\n",
            "\n",
            "Total countries in countries_5: 5\n",
            "Total countries in countries_2: 4\n",
            "Total countries in no_countries: 2\n",
            "\n",
            "Countries not in the list of 5 countries:\n",
            "China\n",
            "Germany\n"
          ]
        }
      ]
    },
    {
      "cell_type": "markdown",
      "source": [
        "Colors\n"
      ],
      "metadata": {
        "id": "xH-9652uQDpn"
      }
    },
    {
      "cell_type": "code",
      "source": [
        "# Initialize the set and lists\n",
        "colors_set = {\"red\", \"blue\", \"green\", \"yellow\", \"orange\", \"red\", \"blue\"}\n",
        "red_colors = []\n",
        "blue_list = []\n",
        "\n",
        "# Process colors - why do we have list() below??\n",
        "for color in list(colors_set)[:]:\n",
        "    if color == \"red\":\n",
        "        colors_set.remove(color)\n",
        "        red_colors.append(color)\n",
        "    elif color == \"blue\":\n",
        "        colors_set.remove(color)\n",
        "        blue_list.append(color)\n",
        "    else:\n",
        "        print(f\"{color} not red or blue.\")\n",
        "\n",
        "# Count the items\n",
        "red_count = len(red_colors)\n",
        "blue_count = len(blue_list)\n",
        "set_count = len(colors_set)\n",
        "\n",
        "# Print messages\n",
        "print(f\"The red_colors list has {red_count} items: {', '.join(red_colors)}.\")\n",
        "print(f\"The blue_list has {blue_count} items: {', '.join(blue_list)}.\")\n",
        "print(f\"The colors_set has {set_count} items: {'+ '.join(colors_set)}.\")\n",
        "\n"
      ],
      "metadata": {
        "colab": {
          "base_uri": "https://localhost:8080/"
        },
        "id": "bxeWmWGXODN8",
        "outputId": "595ec1a6-0669-4580-ab59-a564e5cc5cab"
      },
      "execution_count": null,
      "outputs": [
        {
          "output_type": "stream",
          "name": "stdout",
          "text": [
            "green not red or blue.\n",
            "orange not red or blue.\n",
            "yellow not red or blue.\n",
            "The red_colors list has 1 items: red.\n",
            "The blue_list has 1 items: blue.\n",
            "The colors_set has 3 items: green+ orange+ yellow.\n"
          ]
        }
      ]
    },
    {
      "cell_type": "markdown",
      "source": [
        "Sets"
      ],
      "metadata": {
        "id": "X506TP0gRmJh"
      }
    },
    {
      "cell_type": "code",
      "source": [
        "# Initialize the set and lists\n",
        "colors_tup = (\"red\", \"blue\", \"green\", \"yellow\", \"orange\", \"red\", \"blue\")\n",
        "print(colors_tup)\n",
        "red_colors = []\n",
        "blue_list = []\n",
        "blue_counter = 0\n",
        "red_counter = 0\n",
        "# Process colors\n",
        "for color in colors_tup:\n",
        "    if color == \"blue\":\n",
        "        blue_counter += 1\n",
        "\n",
        "    elif color == \"red\":\n",
        "        red_counter += 1\n",
        "\n",
        "# Count the items\n",
        "print(\"blue =\", blue_counter)\n",
        "print(\"red =\",red_counter)\n",
        "print(sorted(colors_tup))\n",
        "\n",
        "\n"
      ],
      "metadata": {
        "colab": {
          "base_uri": "https://localhost:8080/"
        },
        "id": "xOTYEYMtRoej",
        "outputId": "8a662e48-89cd-4952-e094-e8199bd7442d"
      },
      "execution_count": null,
      "outputs": [
        {
          "output_type": "stream",
          "name": "stdout",
          "text": [
            "('red', 'blue', 'green', 'yellow', 'orange', 'red', 'blue')\n",
            "blue = 2\n",
            "red = 2\n",
            "['blue', 'blue', 'green', 'orange', 'red', 'red', 'yellow']\n"
          ]
        }
      ]
    },
    {
      "cell_type": "code",
      "source": [
        "colors = [\"red\", \"blue\", \"green\", \"yellow\", \"orange\", \"red\", \"blue\"]\n",
        "colors2=[]\n",
        "for color in colors[:]:\n",
        "  print(color)\n",
        "  x = colors.pop()\n",
        "  print(color)\n",
        "  colors2.append(x)\n",
        "\n",
        "print(colors)\n",
        "print(colors2)\n"
      ],
      "metadata": {
        "colab": {
          "base_uri": "https://localhost:8080/"
        },
        "id": "BpFupjC1VdzD",
        "outputId": "efef0c49-795a-4b6e-dab7-4d11229312c9"
      },
      "execution_count": null,
      "outputs": [
        {
          "output_type": "stream",
          "name": "stdout",
          "text": [
            "red\n",
            "red\n",
            "blue\n",
            "blue\n",
            "green\n",
            "green\n",
            "yellow\n",
            "yellow\n",
            "orange\n",
            "orange\n",
            "red\n",
            "red\n",
            "blue\n",
            "blue\n",
            "[]\n",
            "['blue', 'red', 'orange', 'yellow', 'green', 'blue', 'red']\n"
          ]
        }
      ]
    },
    {
      "cell_type": "code",
      "source": [
        "colors_set = [\"red\", \"blue\", \"green\", \"yellow\", \"orange\", \"red\", \"blue\"]\n",
        "colors=[]\n",
        "for color in colors_set:\n",
        "  colors_set.remove(color)\n",
        "  print(color)\n",
        "  colors.append(color)\n",
        "\n",
        "print(colors_set)\n",
        "print(colors)"
      ],
      "metadata": {
        "colab": {
          "base_uri": "https://localhost:8080/"
        },
        "id": "_g8fzMA1XM77",
        "outputId": "30d68ef6-8820-4c61-df18-b580febe7dc4"
      },
      "execution_count": null,
      "outputs": [
        {
          "output_type": "stream",
          "name": "stdout",
          "text": [
            "red\n",
            "green\n",
            "orange\n",
            "blue\n",
            "['yellow', 'red', 'blue']\n",
            "['red', 'green', 'orange', 'blue']\n"
          ]
        }
      ]
    },
    {
      "cell_type": "code",
      "source": [
        "colors_set = [\"red\", \"blue\", \"green\", \"yellow\", \"orange\", \"red\", \"blue\"]\n",
        "colors=[]\n",
        "while colors_set:\n",
        "  x = colors_set.pop()\n",
        "  colors.append(x)\n",
        "\n",
        "print(colors_set)\n",
        "print(colors)"
      ],
      "metadata": {
        "colab": {
          "base_uri": "https://localhost:8080/"
        },
        "id": "6ewIXBFAYaoh",
        "outputId": "d9f7c6ef-dc7b-414f-80a8-495e7c9be914"
      },
      "execution_count": null,
      "outputs": [
        {
          "output_type": "stream",
          "name": "stdout",
          "text": [
            "[]\n",
            "['blue', 'red', 'orange', 'yellow', 'green', 'blue', 'red']\n"
          ]
        }
      ]
    },
    {
      "cell_type": "markdown",
      "source": [
        "write a program create a range 0-10 move even numbers to a list called even and odd numbers to a list called\n",
        "print both lists\n",
        "if fancy use the join command with an f statement\n"
      ],
      "metadata": {
        "id": "XrFZ1SKtUwks"
      }
    },
    {
      "cell_type": "code",
      "source": [],
      "metadata": {
        "id": "wjN7fMilVCTz"
      },
      "execution_count": null,
      "outputs": []
    },
    {
      "cell_type": "code",
      "source": [],
      "metadata": {
        "id": "Me0nwxfBUmQ5"
      },
      "execution_count": null,
      "outputs": []
    }
  ]
}
