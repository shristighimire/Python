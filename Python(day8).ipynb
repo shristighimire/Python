{
  "nbformat": 4,
  "nbformat_minor": 0,
  "metadata": {
    "colab": {
      "provenance": []
    },
    "kernelspec": {
      "name": "python3",
      "display_name": "Python 3"
    },
    "language_info": {
      "name": "python"
    }
  },
  "cells": [
    {
      "cell_type": "code",
      "execution_count": null,
      "metadata": {
        "colab": {
          "base_uri": "https://localhost:8080/"
        },
        "id": "zpGVX4TLyFlT",
        "outputId": "295f29b8-f582-49bc-9909-17f83bb47aff"
      },
      "outputs": [
        {
          "output_type": "stream",
          "name": "stdout",
          "text": [
            "He is 6 years old.\n",
            "He is 6 years old.\n"
          ]
        }
      ],
      "source": [
        "a=2\n",
        "b=3\n",
        "z=a*b\n",
        "print(f\"He is {z} years old.\")\n",
        "print(\"He is\" ,str(z),\"years old.\")"
      ]
    }
  ]
}