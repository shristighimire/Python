{
  "nbformat": 4,
  "nbformat_minor": 0,
  "metadata": {
    "colab": {
      "provenance": []
    },
    "kernelspec": {
      "name": "python3",
      "display_name": "Python 3"
    },
    "language_info": {
      "name": "python"
    }
  },
  "cells": [
    {
      "cell_type": "code",
      "execution_count": null,
      "metadata": {
        "id": "8FBEMQslpH9c",
        "outputId": "9841eae4-bedc-4aea-fee1-23786d5f758f",
        "colab": {
          "base_uri": "https://localhost:8080/"
        }
      },
      "outputs": [
        {
          "output_type": "stream",
          "name": "stdout",
          "text": [
            "My favorite number is 3.\n",
            "My favorite number is 4.\n",
            "My favorite number is 5.\n",
            "My favorite number is 6.\n",
            "My favorite number is 7.\n",
            "My favorite number is 8.\n",
            "My favorite number is 9.\n",
            "The total of all numbers is 42.\n"
          ]
        }
      ],
      "source": [
        "# Create a range from 0 to 6\n",
        "my_range = range(7)\n",
        "\n",
        "# Create an empty list called new_list\n",
        "new_list = []\n",
        "\n",
        "# Using a for loop, add 3 to each number in the range and append it to new_list\n",
        "for num in my_range:\n",
        "    new_num = num + 3\n",
        "    new_list.append(new_num)\n",
        "\n",
        "# Print a message for each item in the list\n",
        "for num in new_list:\n",
        "    print(\"My favorite number is {}.\".format(num))\n",
        "\n",
        "# Sum up the total of all numbers\n",
        "total = sum(new_list)\n",
        "\n",
        "# Print the total\n",
        "print(\"The total of all numbers is {}.\".format(total))\n"
      ]
    }
  ]
}