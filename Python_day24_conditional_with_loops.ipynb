{
  "cells": [
    {
      "cell_type": "markdown",
      "metadata": {
        "id": "Lwqit5BoDbQL"
      },
      "source": [
        "# Using conditional test with lists\n",
        "### ***in***: checking whether a value is in a list"
      ]
    },
    {
      "cell_type": "code",
      "execution_count": null,
      "metadata": {
        "id": "Gx_kyC1XECse",
        "colab": {
          "base_uri": "https://localhost:8080/"
        },
        "outputId": "d47b3d62-967f-4c0f-e702-7e6f0257dcd1"
      },
      "outputs": [
        {
          "output_type": "stream",
          "name": "stdout",
          "text": [
            "You cannot play.\n"
          ]
        }
      ],
      "source": [
        "players = ['al', 'bea', 'cyn', 'dale']\n",
        "if 'eric'in players:\n",
        "\tprint('You can play.')\n",
        "else: print(\"You cannot play.\")"
      ]
    },
    {
      "cell_type": "code",
      "source": [
        "players = ['al', 'bea', 'cyn', 'dale']\n",
        "for name in players:\n",
        "  if name in players:\n",
        "\t  print(f'{name.title()} can play.')\n",
        "  else: print(\"You cannot play.\")"
      ],
      "metadata": {
        "id": "kagWtZD-0XCz",
        "outputId": "2af884e2-f7a2-43d6-fdfe-ca3bab4d4faf",
        "colab": {
          "base_uri": "https://localhost:8080/"
        }
      },
      "execution_count": null,
      "outputs": [
        {
          "output_type": "stream",
          "name": "stdout",
          "text": [
            "Al can play.\n",
            "Bea can play.\n",
            "Cyn can play.\n",
            "Dale can play.\n"
          ]
        }
      ]
    },
    {
      "cell_type": "code",
      "execution_count": null,
      "metadata": {
        "id": "cjqLAjMHEbbi",
        "colab": {
          "base_uri": "https://localhost:8080/"
        },
        "outputId": "b40fdeb3-248c-4fce-db65-98264950fb55"
      },
      "outputs": [
        {
          "output_type": "stream",
          "name": "stdout",
          "text": [
            "True\n",
            "False\n"
          ]
        }
      ],
      "source": [
        "print('al' in players)\n",
        "print('eric' in players)"
      ]
    },
    {
      "cell_type": "code",
      "execution_count": null,
      "metadata": {
        "id": "Qh3XcXVgFu0A",
        "outputId": "eb19deed-bdd9-4d4e-eefb-a4d53c40841d",
        "colab": {
          "base_uri": "https://localhost:8080/"
        }
      },
      "outputs": [
        {
          "output_type": "stream",
          "name": "stdout",
          "text": [
            "You can play.\n",
            "al\n",
            "bea\n"
          ]
        }
      ],
      "source": [
        "players = ['al','bea', 'cyn', 'dale']\n",
        "player='al'\n",
        "player2='bea'\n",
        "if player and player2 in players:\n",
        "\tprint('You can play.')\n",
        "\tprint(player)\n",
        "\tprint(player2)\n",
        "else: (print('You cannot play.'))"
      ]
    },
    {
      "cell_type": "markdown",
      "metadata": {
        "id": "QFNZOwBVKJ3H"
      },
      "source": [
        "### Looping through a list:"
      ]
    },
    {
      "cell_type": "code",
      "execution_count": null,
      "metadata": {
        "id": "ycFXSlEgFulN",
        "outputId": "93cff480-8179-42df-c666-a23f1a7b0746",
        "colab": {
          "base_uri": "https://localhost:8080/"
        }
      },
      "outputs": [
        {
          "output_type": "stream",
          "name": "stdout",
          "text": [
            "9 can play.\n",
            "9 you can play!\n",
            "9  you can play!\n",
            "al can play.\n",
            "al you can play!\n",
            "al  you can play!\n",
            "bea can play.\n",
            "bea you can play!\n",
            "bea  you can play!\n",
            "cyn can play.\n",
            "cyn you can play!\n",
            "cyn  you can play!\n",
            "dale can play.\n",
            "dale you can play!\n",
            "dale  you can play!\n"
          ]
        }
      ],
      "source": [
        "players = ['9','al', 'bea', 'cyn', 'dale']\n",
        "for player in players:\n",
        " print(f'{player} can play.')\n",
        " print(str(player) + \" you can play!\") # + means concatunation\n",
        " print(player ,\" you can play!\")"
      ]
    },
    {
      "cell_type": "markdown",
      "metadata": {
        "id": "PGOLs9jfKXN1"
      },
      "source": [
        "### Excluding a player from the list:"
      ]
    },
    {
      "cell_type": "code",
      "execution_count": null,
      "metadata": {
        "id": "_IUkRT9AKYyW",
        "outputId": "fdbe153d-cdf2-4143-a9cf-158f7a439e8d",
        "colab": {
          "base_uri": "https://localhost:8080/"
        }
      },
      "outputs": [
        {
          "output_type": "stream",
          "name": "stdout",
          "text": [
            "al can play.\n",
            "al can play\n",
            "bea can play.\n",
            "bea can play\n",
            "Sorry cyn cannot play.\n",
            "Sorry dale cannot play.\n"
          ]
        }
      ],
      "source": [
        "players = ['al', 'bea', 'cyn', 'dale']\n",
        "\n",
        "for player in players:\n",
        "  if player=='cyn' or player ==\"dale\":\n",
        "    print(f'Sorry {player} cannot play.')\n",
        "  else:\n",
        "    print(f'{player} can play.')\n",
        "    print(player + \" can play\")\n"
      ]
    },
    {
      "cell_type": "code",
      "source": [
        "players = ['al', 'bea', 'cyn', 'dale']\n",
        "\n",
        "for player in players:\n",
        "  if player or player ==\"dale\":\n",
        "    print(f'Sorry {player} cannot play.')\n",
        "  else:\n",
        "    print(f'{player} can play.')\n",
        "    print(player + \" can play\")"
      ],
      "metadata": {
        "id": "dMDnAmIc4fn3",
        "outputId": "7d604313-51b3-4ea3-e0cd-380ae288776d",
        "colab": {
          "base_uri": "https://localhost:8080/"
        }
      },
      "execution_count": null,
      "outputs": [
        {
          "output_type": "stream",
          "name": "stdout",
          "text": [
            "Sorry al cannot play.\n",
            "Sorry bea cannot play.\n",
            "Sorry cyn cannot play.\n",
            "Sorry dale cannot play.\n"
          ]
        }
      ]
    },
    {
      "cell_type": "markdown",
      "metadata": {
        "id": "xw9w49nAKr65"
      },
      "source": [
        "### Excluding multiple players from the list:"
      ]
    },
    {
      "cell_type": "code",
      "source": [
        "players = ['al', 'bea', 'cyn', 'dale']\n",
        "exclude= ['bea', 'cyn']\n",
        "for player in players:\n",
        "  if player in exclude:\n",
        "    print(f'Sorry {player} cannot play.')\n",
        "  else:\n",
        "    print(f\"{player.title()}, you can play\")"
      ],
      "metadata": {
        "id": "EkXLjuRr7yLb",
        "outputId": "2d985303-fdbc-48dc-c870-0df302c13d47",
        "colab": {
          "base_uri": "https://localhost:8080/"
        }
      },
      "execution_count": null,
      "outputs": [
        {
          "output_type": "stream",
          "name": "stdout",
          "text": [
            "Al, you can play\n",
            "Sorry bea cannot play.\n",
            "Sorry cyn cannot play.\n",
            "Dale, you can play\n"
          ]
        }
      ]
    },
    {
      "cell_type": "code",
      "execution_count": null,
      "metadata": {
        "id": "wUPl3yZNKtHi",
        "outputId": "23a4dff0-fdd5-4cc3-99cf-c3066c0612be",
        "colab": {
          "base_uri": "https://localhost:8080/"
        }
      },
      "outputs": [
        {
          "output_type": "stream",
          "name": "stdout",
          "text": [
            "al is a freshman.\n",
            "Sorry bea cannot play.\n",
            "Sorry cyn cannot play.\n",
            "dale is great!\n"
          ]
        }
      ],
      "source": [
        "players = ['al', 'bea', 'cyn', 'dale']\n",
        "exclude= ['bea', 'cyn']\n",
        "stars=['dale']\n",
        "freshmans=['al']\n",
        "for player in players:\n",
        "  if player in exclude:\n",
        "    print(f'Sorry {player} cannot play.')\n",
        "  elif player in stars:\n",
        "    print(f'{player} is great!')\n",
        "  elif player in freshmans:\n",
        "    print(f'{player} is a freshman.')\n",
        "  else:\n",
        "    print(f'{player} can play.')"
      ]
    },
    {
      "cell_type": "markdown",
      "metadata": {
        "id": "ENDpmJeHLo2J"
      },
      "source": [
        "### Checking for an empty list"
      ]
    },
    {
      "cell_type": "code",
      "execution_count": null,
      "metadata": {
        "id": "e5NZvYb7LyH3",
        "outputId": "5d10b912-29bb-4f1c-df69-75d5a3dcd47c",
        "colab": {
          "base_uri": "https://localhost:8080/"
        }
      },
      "outputs": [
        {
          "output_type": "stream",
          "name": "stdout",
          "text": [
            "Sorry ted cannot play.\n",
            "Sorry john cannot play.\n",
            "['ted', 'john']\n",
            "['al', 'bea', 'cyn', 'dale']\n"
          ]
        }
      ],
      "source": [
        "players = ['al', 'bea', 'cyn', 'dale','john','ted']\n",
        "exclude=[]\n",
        "x=players.pop()\n",
        "exclude.append(x)\n",
        "x=players.pop()\n",
        "exclude.append(x)\n",
        "if exclude:\n",
        "  for player in exclude:\n",
        "    print(f'Sorry {player} cannot play.')\n",
        "else: print('Everyone can play.')\n",
        "print(exclude)\n",
        "print(players)"
      ]
    }
  ],
  "metadata": {
    "colab": {
      "provenance": []
    },
    "kernelspec": {
      "display_name": "Python 3",
      "name": "python3"
    }
  },
  "nbformat": 4,
  "nbformat_minor": 0
}