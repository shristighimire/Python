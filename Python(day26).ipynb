{
  "nbformat": 4,
  "nbformat_minor": 0,
  "metadata": {
    "colab": {
      "provenance": []
    },
    "kernelspec": {
      "name": "python3",
      "display_name": "Python 3"
    },
    "language_info": {
      "name": "python"
    }
  },
  "cells": [
    {
      "cell_type": "code",
      "source": [
        "list1 = [\"adam\", \"bea\", 'zac', 'amy']\n"
      ],
      "metadata": {
        "id": "GKlNMzjnGvd4"
      },
      "execution_count": null,
      "outputs": []
    },
    {
      "cell_type": "code",
      "source": [
        "list1.sort()\n",
        "print(list1)"
      ],
      "metadata": {
        "colab": {
          "base_uri": "https://localhost:8080/"
        },
        "id": "e2KGalrnHfYM",
        "outputId": "5c294f37-537f-4a83-b05c-2a34f8eef47b"
      },
      "execution_count": null,
      "outputs": [
        {
          "output_type": "stream",
          "name": "stdout",
          "text": [
            "['adam', 'amy', 'bea', 'zac']\n"
          ]
        }
      ]
    },
    {
      "cell_type": "code",
      "source": [
        "print(sorted(list1))\n",
        "print(list1)"
      ],
      "metadata": {
        "colab": {
          "base_uri": "https://localhost:8080/"
        },
        "id": "lhrRdxv2Hvp-",
        "outputId": "80df4334-70f4-4c7c-8628-a502025336cf"
      },
      "execution_count": null,
      "outputs": [
        {
          "output_type": "stream",
          "name": "stdout",
          "text": [
            "['adam', 'amy', 'bea', 'zac']\n",
            "['adam', 'bea', 'zac', 'amy']\n"
          ]
        }
      ]
    },
    {
      "cell_type": "code",
      "source": [
        "print(list1.sort())"
      ],
      "metadata": {
        "colab": {
          "base_uri": "https://localhost:8080/"
        },
        "id": "1vfRWkd6IM2V",
        "outputId": "ed709881-0b62-4a6c-cc12-ebfb2d018921"
      },
      "execution_count": null,
      "outputs": [
        {
          "output_type": "stream",
          "name": "stdout",
          "text": [
            "None\n"
          ]
        }
      ]
    },
    {
      "cell_type": "code",
      "source": [
        "list2=sorted(list1)\n",
        "print(list1)"
      ],
      "metadata": {
        "colab": {
          "base_uri": "https://localhost:8080/"
        },
        "id": "9hz7I3ccIuhs",
        "outputId": "dccf3149-8d3f-4cc9-8fcf-5ff1a21151ff"
      },
      "execution_count": null,
      "outputs": [
        {
          "output_type": "stream",
          "name": "stdout",
          "text": [
            "['adam', 'bea', 'zac', 'amy']\n"
          ]
        }
      ]
    },
    {
      "cell_type": "code",
      "source": [
        "for x in range(0,6):\n",
        "  print(x)"
      ],
      "metadata": {
        "colab": {
          "base_uri": "https://localhost:8080/"
        },
        "id": "kSjghEGUKhK5",
        "outputId": "855cb0af-ed8e-4df7-947c-56bc3d2f3521"
      },
      "execution_count": null,
      "outputs": [
        {
          "output_type": "stream",
          "name": "stdout",
          "text": [
            "0\n",
            "1\n",
            "2\n",
            "3\n",
            "4\n",
            "5\n"
          ]
        }
      ]
    },
    {
      "cell_type": "code",
      "source": [
        "x =list(range(0,6))\n",
        "print(x)"
      ],
      "metadata": {
        "colab": {
          "base_uri": "https://localhost:8080/"
        },
        "id": "BxGhn99dLIoK",
        "outputId": "dc1909dc-7cdf-4a84-fd09-44613bfcb8e7"
      },
      "execution_count": null,
      "outputs": [
        {
          "output_type": "stream",
          "name": "stdout",
          "text": [
            "[0, 1, 2, 3, 4, 5]\n"
          ]
        }
      ]
    },
    {
      "cell_type": "code",
      "source": [
        "new_list = []\n",
        "for x in range(0,6):\n",
        "  x += 3\n",
        "  new_list.append(x)\n",
        "  print(f\"My favorite number is {x}.\")\n",
        "print(new_list)"
      ],
      "metadata": {
        "colab": {
          "base_uri": "https://localhost:8080/"
        },
        "id": "Sx2QXupFL5eW",
        "outputId": "b1bfad3f-6364-41a5-a6cb-81ad1360ed09"
      },
      "execution_count": null,
      "outputs": [
        {
          "output_type": "stream",
          "name": "stdout",
          "text": [
            "My favorite number is 3.\n",
            "My favorite number is 4.\n",
            "My favorite number is 5.\n",
            "My favorite number is 6.\n",
            "My favorite number is 7.\n",
            "My favorite number is 8.\n",
            "[3, 4, 5, 6, 7, 8]\n"
          ]
        }
      ]
    },
    {
      "cell_type": "code",
      "source": [
        "print(f\"The total of all numbers is {sum(new_list)}\")"
      ],
      "metadata": {
        "colab": {
          "base_uri": "https://localhost:8080/"
        },
        "id": "4aroZprSOIVb",
        "outputId": "ee594411-096b-4733-8351-f7ee55e97e69"
      },
      "execution_count": null,
      "outputs": [
        {
          "output_type": "stream",
          "name": "stdout",
          "text": [
            "The total of all numbers is 33\n"
          ]
        }
      ]
    },
    {
      "cell_type": "markdown",
      "source": [
        "# Comprehension"
      ],
      "metadata": {
        "id": "Y6D-D1SNN-Y6"
      }
    },
    {
      "cell_type": "code",
      "source": [],
      "metadata": {
        "id": "1wLZSU4RN4Qm"
      },
      "execution_count": null,
      "outputs": []
    },
    {
      "cell_type": "code",
      "source": [
        "new_list = [x+3 for x in range(0,6)]\n",
        "print(new_list)"
      ],
      "metadata": {
        "colab": {
          "base_uri": "https://localhost:8080/"
        },
        "id": "4CzMtijVNixi",
        "outputId": "903f19d3-5ad2-4427-fc4a-b8203b867c76"
      },
      "execution_count": null,
      "outputs": [
        {
          "output_type": "stream",
          "name": "stdout",
          "text": [
            "[3, 4, 5, 6, 7, 8]\n"
          ]
        }
      ]
    },
    {
      "cell_type": "markdown",
      "source": [
        "# User Input\n",
        "Your programs can prompt a user for input using the input() function."
      ],
      "metadata": {
        "id": "FLGl6BWkvqWw"
      }
    },
    {
      "cell_type": "code",
      "execution_count": null,
      "metadata": {
        "id": "pF6EYwMbvVof",
        "colab": {
          "base_uri": "https://localhost:8080/"
        },
        "outputId": "032ebea7-70b4-46c3-905c-6bdc95887cf0"
      },
      "outputs": [
        {
          "output_type": "stream",
          "name": "stdout",
          "text": [
            "What's your name? John\n",
            "Hello, John!\n"
          ]
        }
      ],
      "source": [
        "#prompting for a value:\n",
        "name = input(\"What's your name? \")\n",
        "print(f\"Hello, {name}!\")"
      ]
    }
  ]
}
