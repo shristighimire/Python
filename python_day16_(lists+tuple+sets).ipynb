{
  "nbformat": 4,
  "nbformat_minor": 0,
  "metadata": {
    "colab": {
      "provenance": []
    },
    "kernelspec": {
      "name": "python3",
      "display_name": "Python 3"
    },
    "language_info": {
      "name": "python"
    }
  },
  "cells": [
    {
      "cell_type": "code",
      "execution_count": null,
      "metadata": {
        "colab": {
          "base_uri": "https://localhost:8080/"
        },
        "id": "-5Y5rxZI9nM8",
        "outputId": "d408205f-fb82-4990-a02f-8ee232180f4d"
      },
      "outputs": [
        {
          "output_type": "stream",
          "name": "stdout",
          "text": [
            "kai\n",
            "1\n",
            "['Kai']\n",
            "Abe\n",
            "2\n",
            "['Kai', 'Abe']\n",
            "ada\n",
            "3\n",
            "['Kai', 'Abe', 'Ada']\n",
            "Gus\n",
            "4\n",
            "['Kai', 'Abe', 'Ada', 'Gus']\n",
            "zoe\n",
            "5\n",
            "['Kai', 'Abe', 'Ada', 'Gus', 'Zoe']\n",
            "['Kai', 'Abe', 'Ada', 'Gus', 'Zoe']\n",
            "['kai', 'Abe', 'ada', 'Gus', 'zoe']\n"
          ]
        }
      ],
      "source": [
        "names=['kai','Abe','ada','Gus','zoe']\n",
        "upper_names = []\n",
        "for name in names:\n",
        "  print(name)\n",
        "  upper_names.append(name.title())\n",
        "  print(len(upper_names))\n",
        "  print(upper_names)\n",
        "print(upper_names)\n",
        "print(names)"
      ]
    },
    {
      "cell_type": "markdown",
      "source": [
        "adding, counting max and min"
      ],
      "metadata": {
        "id": "6WWGMhdNBylF"
      }
    },
    {
      "cell_type": "code",
      "source": [
        "runtime=[4,3.6,7,9]\n",
        "quickest = min(runtime)\n",
        "print(quickest)\n",
        "longest=max(runtime)\n",
        "print(longest)\n",
        "alltime=sum(runtime)\n",
        "print(alltime)"
      ],
      "metadata": {
        "colab": {
          "base_uri": "https://localhost:8080/"
        },
        "id": "3UuOxTUABLfk",
        "outputId": "c934cedd-427c-4ecf-91c4-dcded5f293d7"
      },
      "execution_count": null,
      "outputs": [
        {
          "output_type": "stream",
          "name": "stdout",
          "text": [
            "3.6\n",
            "9\n",
            "23.6\n"
          ]
        }
      ]
    },
    {
      "cell_type": "code",
      "source": [
        "finishers=['kai','abe','ada','gus','zoe']\n",
        "#getting first three\n",
        "first_three=[]\n",
        "first_three=finishers[0:3]\n",
        "#getting second to fourth\n",
        "middle_three=[]\n",
        "middle_three=finishers[1:4]\n",
        "#getting last three\n",
        "last_three=[]\n",
        "last_three=finishers[-3:]\n",
        "\n",
        "print(first_three)\n",
        "print(middle_three)\n",
        "print(last_three)\n",
        "\n",
        "type(middle_three)"
      ],
      "metadata": {
        "colab": {
          "base_uri": "https://localhost:8080/"
        },
        "id": "cpg77w18B1jx",
        "outputId": "6a3d2a5c-0f72-4948-edf0-990671f227bd"
      },
      "execution_count": null,
      "outputs": [
        {
          "output_type": "stream",
          "name": "stdout",
          "text": [
            "['kai', 'abe', 'ada']\n",
            "['abe', 'ada', 'gus']\n",
            "['ada', 'gus', 'zoe']\n"
          ]
        },
        {
          "output_type": "execute_result",
          "data": {
            "text/plain": [
              "list"
            ]
          },
          "metadata": {},
          "execution_count": 12
        }
      ]
    },
    {
      "cell_type": "code",
      "source": [
        "fruit=['apple','fig','date','pear']\n",
        "#first three\n",
        "x=fruit[-4:3]\n",
        "print(x)\n"
      ],
      "metadata": {
        "colab": {
          "base_uri": "https://localhost:8080/"
        },
        "id": "1eCz-eF1DNtu",
        "outputId": "89dda005-8938-489d-8cf5-ddbf441abcf0"
      },
      "execution_count": null,
      "outputs": [
        {
          "output_type": "stream",
          "name": "stdout",
          "text": [
            "['apple', 'fig', 'date']\n"
          ]
        }
      ]
    },
    {
      "cell_type": "markdown",
      "source": [
        "Copying a list"
      ],
      "metadata": {
        "id": "w-R-NqjcEnz7"
      }
    },
    {
      "cell_type": "code",
      "source": [
        "finishers=['kai','abe','ada','gus','zoe']\n",
        "copy_of_finishers= finishers[:] #[:] this makes sure your copy is secured and separated from the list for the computer to read\n",
        "x=copy_of_finishers[:]\n",
        "print(finishers)\n",
        "copy_of_finishers.sort()\n",
        "print(copy_of_finishers)\n",
        "print(finishers)\n",
        "print(x)"
      ],
      "metadata": {
        "colab": {
          "base_uri": "https://localhost:8080/"
        },
        "id": "7ggzZ36WEqP6",
        "outputId": "032d27bc-f0f9-4994-cc58-cb639ba8cb77"
      },
      "execution_count": null,
      "outputs": [
        {
          "output_type": "stream",
          "name": "stdout",
          "text": [
            "['kai', 'abe', 'ada', 'gus', 'zoe']\n",
            "['abe', 'ada', 'gus', 'kai', 'zoe']\n",
            "['kai', 'abe', 'ada', 'gus', 'zoe']\n",
            "['kai', 'abe', 'ada', 'gus', 'zoe']\n"
          ]
        }
      ]
    },
    {
      "cell_type": "markdown",
      "source": [
        "Tuple"
      ],
      "metadata": {
        "id": "9q69MMw7GzDA"
      }
    },
    {
      "cell_type": "code",
      "source": [
        "dimensions=(800,600,25)\n",
        "#Tuples are indexed:\n",
        "print(dimensions[2])\n",
        "#Looping through a tuple:\n",
        "for dimension in dimensions:\n",
        "  print(dimension)"
      ],
      "metadata": {
        "colab": {
          "base_uri": "https://localhost:8080/"
        },
        "id": "-0qWzPi1G0Hs",
        "outputId": "29c1e56b-a686-4a5d-8f6f-2bfc3f0b36ef"
      },
      "execution_count": null,
      "outputs": [
        {
          "output_type": "stream",
          "name": "stdout",
          "text": [
            "25\n",
            "800\n",
            "600\n",
            "25\n"
          ]
        }
      ]
    },
    {
      "cell_type": "markdown",
      "source": [
        "Sets"
      ],
      "metadata": {
        "id": "NAjpNexYHPPp"
      }
    },
    {
      "cell_type": "code",
      "source": [
        "animals={'monkey','tiger',\"ape\"}\n",
        "print(type(animals))\n",
        "print(animals)\n",
        "for favourite in animals:\n",
        "  print(f\"My favourite animal is {favourite}.\")"
      ],
      "metadata": {
        "colab": {
          "base_uri": "https://localhost:8080/"
        },
        "id": "MzyROk9uHQK-",
        "outputId": "50e2de53-2672-4c43-b37f-b528b000a0d7"
      },
      "execution_count": null,
      "outputs": [
        {
          "output_type": "stream",
          "name": "stdout",
          "text": [
            "<class 'set'>\n",
            "{'ape', 'monkey', 'tiger'}\n",
            "My favourite animal is ape.\n",
            "My favourite animal is monkey.\n",
            "My favourite animal is tiger.\n"
          ]
        }
      ]
    },
    {
      "cell_type": "code",
      "source": [
        "animals=[\"ape\",'owl','alligator','ox','ape']\n",
        "print(animals.count('ape'))\n",
        "apes=[]\n",
        "while\"ape\" in animals:\n",
        "  animals.remove(\"ape\")\n",
        "  apes.append(\"ape\")\n",
        "print(animals)\n",
        "print(apes)"
      ],
      "metadata": {
        "colab": {
          "base_uri": "https://localhost:8080/"
        },
        "id": "laqfJWyAKVYs",
        "outputId": "64a7bfc1-d2f2-4d67-d185-8b0e1033b677"
      },
      "execution_count": null,
      "outputs": [
        {
          "output_type": "stream",
          "name": "stdout",
          "text": [
            "2\n",
            "['owl', 'alligator', 'ox']\n",
            "['ape', 'ape']\n"
          ]
        }
      ]
    },
    {
      "cell_type": "code",
      "source": [
        "numbers=list(range(1,10,2))# the one here is making numbers odd\n",
        "square=[]\n",
        "for number in numbers:\n",
        "  square.append(number**2)\n",
        "print(numbers)\n",
        "print(square)"
      ],
      "metadata": {
        "colab": {
          "base_uri": "https://localhost:8080/"
        },
        "id": "Ua0ku_ocLLuC",
        "outputId": "c0b8a70b-68d1-4dc3-cd76-c421220f5b16"
      },
      "execution_count": null,
      "outputs": [
        {
          "output_type": "stream",
          "name": "stdout",
          "text": [
            "[1, 3, 5, 7, 9]\n",
            "[1, 9, 25, 49, 81]\n"
          ]
        }
      ]
    }
  ]
}