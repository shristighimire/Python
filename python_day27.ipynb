{
  "nbformat": 4,
  "nbformat_minor": 0,
  "metadata": {
    "colab": {
      "provenance": []
    },
    "kernelspec": {
      "name": "python3",
      "display_name": "Python 3"
    },
    "language_info": {
      "name": "python"
    }
  },
  "cells": [
    {
      "cell_type": "code",
      "source": [
        "list1 = [\"adam\", \"bea\", 'zac', 'amy']\n",
        "\n"
      ],
      "metadata": {
        "id": "GKlNMzjnGvd4"
      },
      "execution_count": null,
      "outputs": []
    },
    {
      "cell_type": "code",
      "source": [
        "print(sorted(list1))\n",
        "print(list1)"
      ],
      "metadata": {
        "id": "Goq1xC14IUrh",
        "outputId": "4624992f-7590-4dcf-e0a8-40fcf2cb7696",
        "colab": {
          "base_uri": "https://localhost:8080/"
        }
      },
      "execution_count": null,
      "outputs": [
        {
          "output_type": "stream",
          "name": "stdout",
          "text": [
            "['adam', 'amy', 'bea', 'zac']\n",
            "['adam', 'bea', 'zac', 'amy']\n"
          ]
        }
      ]
    },
    {
      "cell_type": "code",
      "source": [
        "for x in range(0,6):\n",
        "  print(x)"
      ],
      "metadata": {
        "id": "uZm7WPkiKfI1",
        "outputId": "98b232c0-729e-4dbc-d7ac-584bc969026a",
        "colab": {
          "base_uri": "https://localhost:8080/"
        }
      },
      "execution_count": null,
      "outputs": [
        {
          "output_type": "stream",
          "name": "stdout",
          "text": [
            "0\n",
            "1\n",
            "2\n",
            "3\n",
            "4\n",
            "5\n"
          ]
        }
      ]
    },
    {
      "cell_type": "code",
      "source": [
        "x=list(range(0,6))\n",
        "print(x)\n",
        "new_list=[]\n",
        "print(new_list)\n",
        "for number in x:\n",
        "  new_list=(number+3)\n",
        "  print(new_list)\n",
        "  # or x+= 3\n",
        "  # print(x)\n"
      ],
      "metadata": {
        "id": "q3gqh-hZLOUi",
        "outputId": "192531d0-d4d6-4a40-ee86-84df01b1fdd7",
        "colab": {
          "base_uri": "https://localhost:8080/"
        }
      },
      "execution_count": null,
      "outputs": [
        {
          "output_type": "stream",
          "name": "stdout",
          "text": [
            "[0, 1, 2, 3, 4, 5]\n",
            "[]\n",
            "3\n",
            "4\n",
            "5\n",
            "6\n",
            "7\n",
            "8\n"
          ]
        }
      ]
    },
    {
      "cell_type": "markdown",
      "source": [
        "comprehension"
      ],
      "metadata": {
        "id": "AH7Jp7zKN4K2"
      }
    },
    {
      "cell_type": "code",
      "source": [
        "new_list=[x+3 for x in range(0,6)]\n",
        "print(new_list)\n",
        "print(f\"The total of all numbers is {sum(new_list)}.\")"
      ],
      "metadata": {
        "id": "5kYlUjrqN5mj",
        "outputId": "15c7e5c5-64ce-4e78-8682-da3cd096d526",
        "colab": {
          "base_uri": "https://localhost:8080/"
        }
      },
      "execution_count": null,
      "outputs": [
        {
          "output_type": "stream",
          "name": "stdout",
          "text": [
            "[3, 4, 5, 6, 7, 8]\n",
            "The total of all numbers is 33.\n"
          ]
        }
      ]
    },
    {
      "cell_type": "code",
      "source": [
        "# @title\n",
        "number = 5\n",
        "print(number > 4)"
      ],
      "metadata": {
        "id": "GBgLaX9I1D2w",
        "colab": {
          "base_uri": "https://localhost:8080/"
        },
        "outputId": "a9cf0223-c6ab-4917-a0ed-42ff8da94a74",
        "collapsed": true
      },
      "execution_count": null,
      "outputs": [
        {
          "output_type": "stream",
          "name": "stdout",
          "text": [
            "True\n"
          ]
        }
      ]
    },
    {
      "cell_type": "markdown",
      "source": [
        "Checking where a value is in a list:"
      ],
      "metadata": {
        "id": "nJDN1G1Uz1uP"
      }
    },
    {
      "cell_type": "code",
      "source": [
        "# @title\n",
        "number_list = [1, 2, 3, 4]\n",
        "number = 5\n",
        "print(number in number_list)\n",
        "print(number not in number_list)"
      ],
      "metadata": {
        "colab": {
          "base_uri": "https://localhost:8080/"
        },
        "id": "VCgLZ4Zg1UVL",
        "outputId": "a9fbf6bf-d7e2-4aed-8986-a38f16400834"
      },
      "execution_count": null,
      "outputs": [
        {
          "output_type": "stream",
          "name": "stdout",
          "text": [
            "False\n",
            "True\n"
          ]
        }
      ]
    },
    {
      "cell_type": "code",
      "source": [
        "# @title\n",
        "name_list = [\"Abe\", 'Bev','Cal']\n",
        "name = ['Deb']\n",
        "print(name in name_list)\n",
        "print(name not in name_list)"
      ],
      "metadata": {
        "colab": {
          "base_uri": "https://localhost:8080/"
        },
        "id": "g4RzpUBs2RcQ",
        "outputId": "48472b66-e2f9-41ab-d667-7199258f7458"
      },
      "execution_count": null,
      "outputs": [
        {
          "output_type": "stream",
          "name": "stdout",
          "text": [
            "False\n",
            "True\n"
          ]
        }
      ]
    },
    {
      "cell_type": "markdown",
      "source": [
        "# While Loops\n",
        "A while loop repeats a block of code as long as a certain condition is true."
      ],
      "metadata": {
        "id": "yeYYfrvB3SHT"
      }
    },
    {
      "cell_type": "code",
      "source": [
        "# @title\n",
        "#a simple while loop:\n",
        "current_value = 1\n",
        "while current_value <= 5:\n",
        "  print(current_value)\n",
        "  current_value += 1"
      ],
      "metadata": {
        "id": "7Fr9qsko3l-W",
        "colab": {
          "base_uri": "https://localhost:8080/"
        },
        "outputId": "dcfbbba8-b90b-4bcc-8ae9-3b46cfa368c3"
      },
      "execution_count": null,
      "outputs": [
        {
          "output_type": "stream",
          "name": "stdout",
          "text": [
            "1\n",
            "2\n",
            "3\n",
            "4\n",
            "5\n"
          ]
        }
      ]
    },
    {
      "cell_type": "code",
      "source": [
        "# @title\n",
        "#letting the user choose when to quit:\n",
        "msg = \"\"\n",
        "while msg != 'quit':\n",
        "  msg = input(\"What's your message? \")\n",
        "  print(msg)"
      ],
      "metadata": {
        "id": "Sbh04xqZ3tAc",
        "colab": {
          "base_uri": "https://localhost:8080/"
        },
        "outputId": "d1719d78-177c-4c26-a568-6130c928539b",
        "collapsed": true
      },
      "execution_count": null,
      "outputs": [
        {
          "output_type": "stream",
          "name": "stdout",
          "text": [
            "What's your message? quit\n",
            "quit\n"
          ]
        }
      ]
    },
    {
      "cell_type": "code",
      "source": [
        "msg = \"\"\n",
        "while msg not in  ['quit','Quit']:\n",
        "  msg = input(\"What's your message? \")\n",
        "  print(msg)"
      ],
      "metadata": {
        "colab": {
          "base_uri": "https://localhost:8080/"
        },
        "id": "qdwDYz1KT5E8",
        "outputId": "51a4443b-4a60-4d83-cdca-38a8afc36bd3"
      },
      "execution_count": null,
      "outputs": [
        {
          "output_type": "stream",
          "name": "stdout",
          "text": [
            "What's your message? Quit\n",
            "Quit\n"
          ]
        }
      ]
    }
  ]
}