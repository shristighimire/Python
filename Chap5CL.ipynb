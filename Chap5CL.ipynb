{
  "cells": [
    {
      "cell_type": "markdown",
      "metadata": {
        "id": "yNcnvnTkAWKq"
      },
      "source": [
        "# Chapter 5"
      ]
    },
    {
      "cell_type": "markdown",
      "metadata": {
        "id": "fQvKzvpnQh7h"
      },
      "source": [
        "## Conditional test, Boolean value\n",
        "### A conditional test is an expression that can be evaluated as True or False."
      ]
    },
    {
      "cell_type": "code",
      "execution_count": null,
      "metadata": {
        "colab": {
          "base_uri": "https://localhost:8080/"
        },
        "id": "NDR3oYOdAgEe",
        "outputId": "6732f829-be3f-4dca-9f1d-0d54c7a8a133"
      },
      "outputs": [
        {
          "output_type": "stream",
          "name": "stdout",
          "text": [
            "False\n"
          ]
        }
      ],
      "source": [
        "x=4\n",
        "print(x>=5)"
      ]
    },
    {
      "cell_type": "code",
      "execution_count": null,
      "metadata": {
        "id": "Az0VCh7SUGJg",
        "colab": {
          "base_uri": "https://localhost:8080/"
        },
        "outputId": "66c2dbe1-b704-4a6d-9a98-ee43ebbe2305"
      },
      "outputs": [
        {
          "output_type": "stream",
          "name": "stdout",
          "text": [
            "True\n",
            "<class 'int'>\n"
          ]
        },
        {
          "output_type": "execute_result",
          "data": {
            "text/plain": [
              "bool"
            ]
          },
          "metadata": {},
          "execution_count": 7
        }
      ],
      "source": [
        "x=4\n",
        "print(x!=5)\n",
        "print(type(x))\n",
        "type(x!=5)"
      ]
    },
    {
      "cell_type": "code",
      "execution_count": null,
      "metadata": {
        "id": "ZmC7qTbpUFoL"
      },
      "outputs": [],
      "source": [
        "#Using an input value\n"
      ]
    },
    {
      "cell_type": "code",
      "execution_count": null,
      "metadata": {
        "id": "01J0plowC2U1"
      },
      "outputs": [],
      "source": [
        "#Using a while loop:\n"
      ]
    },
    {
      "cell_type": "markdown",
      "metadata": {
        "id": "X6bYrvtxA6_q"
      },
      "source": [
        "### If Statements\n",
        "An ***if*** statement is used to test for a particular condition and respond appropriately."
      ]
    },
    {
      "cell_type": "code",
      "execution_count": null,
      "metadata": {
        "id": "uslwyLLQBP2O",
        "colab": {
          "base_uri": "https://localhost:8080/"
        },
        "outputId": "61912687-2e32-456e-9b85-37bcad475683"
      },
      "outputs": [
        {
          "output_type": "stream",
          "name": "stdout",
          "text": [
            "Age: 5\n",
            "<class 'str'>\n"
          ]
        }
      ],
      "source": [
        "age = input(\"Age: \")\n",
        "print(type(age))\n",
        "age = int(age)\n",
        "\n",
        "if age >= 19:\n",
        "  print(\"You're old enough to vote!\")\n",
        "  print(age)"
      ]
    },
    {
      "cell_type": "code",
      "source": [
        "year = input('What year were you born?')\n",
        "year =int(year)\n",
        "if year == 2005:\n",
        "  print(f\"You are amazing because you were born in {year}!\")\n",
        "elif year < 2005:\n",
        "  print(f'less than 2005 {year}')\n",
        "else:\n",
        "  print(f\"You are still ok because you were born in {year}!\")\n",
        "print(f\"This an example\")\n"
      ],
      "metadata": {
        "colab": {
          "base_uri": "https://localhost:8080/"
        },
        "id": "ZsUGyBPd0JAJ",
        "outputId": "e56b9270-7ba5-4a1e-8f4c-5874063c8b8c"
      },
      "execution_count": null,
      "outputs": [
        {
          "output_type": "stream",
          "name": "stdout",
          "text": [
            "What year were you born?1999\n",
            "less than 2005 1999\n"
          ]
        }
      ]
    },
    {
      "cell_type": "markdown",
      "metadata": {
        "id": "vIbDyPS-BmrN"
      },
      "source": [
        "### If-else statements:\n",
        "An ***else*** statement is used to specify an alternative when the condition fails."
      ]
    },
    {
      "cell_type": "code",
      "execution_count": null,
      "metadata": {
        "id": "XjYCWfx2BtFT",
        "colab": {
          "base_uri": "https://localhost:8080/"
        },
        "outputId": "8884f780-a256-418d-8e86-eaccc29d9468"
      },
      "outputs": [
        {
          "output_type": "stream",
          "name": "stdout",
          "text": [
            "age:21\n",
            "You're old enough to vote!\n",
            "Your age is 21\n"
          ]
        }
      ],
      "source": [
        "age=input(\"age:\")\n",
        "age=int(age)\n",
        "\n",
        "if age >= 18:\n",
        "\tprint (\"You're old enough to vote!\")\n",
        "else:\n",
        "\tprint (\"You can't vote yet.\")\n",
        "print(f\"Your age is {age}\")"
      ]
    },
    {
      "cell_type": "markdown",
      "metadata": {
        "id": "myr7CQCjB-Hr"
      },
      "source": [
        "### If-elif-else statements:\n",
        "An ***elif*** statement is used to specify an alternative condition and corresponding response."
      ]
    },
    {
      "cell_type": "code",
      "execution_count": null,
      "metadata": {
        "id": "yBRGj-DdB1Na",
        "colab": {
          "base_uri": "https://localhost:8080/"
        },
        "outputId": "2b18c4d6-dd95-4249-89bd-6e687b39e043"
      },
      "outputs": [
        {
          "output_type": "stream",
          "name": "stdout",
          "text": [
            "Age: 66\n",
            "100\n"
          ]
        }
      ],
      "source": [
        "age=input(\"Age: \")\n",
        "age = int(age)\n",
        "if age <= 4:\n",
        "  price = 0\n",
        "elif age <= 65:\n",
        "  price = 20\n",
        "elif age==66:\n",
        "  price =100\n",
        "else:\n",
        "  price=10\n",
        "print(price)"
      ]
    },
    {
      "cell_type": "markdown",
      "metadata": {
        "id": "uLQ19TvBCoFy"
      },
      "source": [
        "# Multiple Conditions:\n",
        "### Checking for multiple conditions:\n",
        "\n",
        "### ***and***: both conditions are True"
      ]
    },
    {
      "cell_type": "code",
      "execution_count": null,
      "metadata": {
        "id": "rkQLwrL4DHYZ",
        "colab": {
          "base_uri": "https://localhost:8080/"
        },
        "outputId": "a04272a1-0119-40e7-f71c-6710ac875ca3"
      },
      "outputs": [
        {
          "output_type": "stream",
          "name": "stdout",
          "text": [
            "Your price is free.\n"
          ]
        }
      ],
      "source": [
        "age = 4\n",
        "if age >= 5 and age<=65:\n",
        "\tprint (\"You owe $20.\")\n",
        "else: print ('Your price is free.')"
      ]
    },
    {
      "cell_type": "code",
      "source": [
        "age= 1\n",
        "year = 2005\n",
        "if age <5 or age > 65:\n",
        "  if year==2005:\n",
        "    print(\"you're too young\")\n",
        "  else:\n",
        "   print ('Your price is free.')\n",
        "else: print (\"You owe $20.\")\n"
      ],
      "metadata": {
        "colab": {
          "base_uri": "https://localhost:8080/"
        },
        "id": "ebcC5fQw6f5c",
        "outputId": "d8efe25c-e86a-40d3-9b2c-d98cfc87134d"
      },
      "execution_count": null,
      "outputs": [
        {
          "output_type": "stream",
          "name": "stdout",
          "text": [
            "you're too young\n"
          ]
        }
      ]
    },
    {
      "cell_type": "markdown",
      "metadata": {
        "id": "yzZu1mRyDXIj"
      },
      "source": [
        "### ***or***: one condition (or both) is True"
      ]
    },
    {
      "cell_type": "code",
      "execution_count": null,
      "metadata": {
        "id": "Kky3MdPPDj2a",
        "colab": {
          "base_uri": "https://localhost:8080/",
          "height": 142
        },
        "outputId": "a0e1fe72-e0d5-44e6-e884-7aad0a32a701"
      },
      "outputs": [
        {
          "output_type": "error",
          "ename": "SyntaxError",
          "evalue": "ignored",
          "traceback": [
            "\u001b[0;36m  File \u001b[0;32m\"<ipython-input-22-75b08551132c>\"\u001b[0;36m, line \u001b[0;32m11\u001b[0m\n\u001b[0;31m    break\u001b[0m\n\u001b[0m    ^\u001b[0m\n\u001b[0;31mSyntaxError\u001b[0m\u001b[0;31m:\u001b[0m 'break' outside loop\n"
          ]
        }
      ],
      "source": [
        "tuesdays=['tuesday', 'Tuesday']\n",
        "while True:\n",
        "\tage=input(\"Age: \")\n",
        "\tage=int(age)\n",
        "\tday= input(\"Today is: \")\n",
        "\tif age < 5 or day in tuesdays :\n",
        "\t\tprint ('Your price is free.')\n",
        "\telse:\n",
        "\t\tprint (\"You owe $20.\")\n",
        "else:\n",
        "break"
      ]
    },
    {
      "cell_type": "markdown",
      "metadata": {
        "id": "Lwqit5BoDbQL"
      },
      "source": [
        "# Using conditional test with lists\n",
        "### ***in***: checking whether a value is in a list"
      ]
    },
    {
      "cell_type": "code",
      "execution_count": null,
      "metadata": {
        "id": "Gx_kyC1XECse",
        "colab": {
          "base_uri": "https://localhost:8080/"
        },
        "outputId": "2cb145a1-1a48-4b7d-c785-e5830b522636"
      },
      "outputs": [
        {
          "output_type": "stream",
          "name": "stdout",
          "text": [
            "You cannot play.\n"
          ]
        }
      ],
      "source": [
        "players = ['al', 'bea', 'cyn', 'dale']\n",
        "if 'eric'in players:\n",
        "\tprint('You can play.')\n",
        "else: print(\"You cannot play.\")"
      ]
    },
    {
      "cell_type": "code",
      "source": [
        "players = ['al', 'bea', 'cyn', 'dale']\n",
        "for name in players:\n",
        "  if name in players:\n",
        "\t  print(f'{name.title()} can play.')\n",
        "  else: print(\"You cannot play.\")"
      ],
      "metadata": {
        "colab": {
          "base_uri": "https://localhost:8080/"
        },
        "id": "VMG10vjM0JX1",
        "outputId": "372afce0-793e-497a-cb3e-5841102a518e"
      },
      "execution_count": null,
      "outputs": [
        {
          "output_type": "stream",
          "name": "stdout",
          "text": [
            "Al can play.\n",
            "Bea can play.\n",
            "Cyn can play.\n",
            "Dale can play.\n"
          ]
        }
      ]
    },
    {
      "cell_type": "code",
      "execution_count": null,
      "metadata": {
        "id": "cjqLAjMHEbbi",
        "colab": {
          "base_uri": "https://localhost:8080/"
        },
        "outputId": "e1652714-db87-4efc-caa1-366bb1c2932e"
      },
      "outputs": [
        {
          "output_type": "stream",
          "name": "stdout",
          "text": [
            "True\n",
            "False\n"
          ]
        }
      ],
      "source": [
        "print('al' in players)\n",
        "print('eric' in players)"
      ]
    },
    {
      "cell_type": "code",
      "execution_count": null,
      "metadata": {
        "id": "Qh3XcXVgFu0A",
        "colab": {
          "base_uri": "https://localhost:8080/"
        },
        "outputId": "57e4b4de-6273-4929-d447-e45c38b0b83f"
      },
      "outputs": [
        {
          "output_type": "stream",
          "name": "stdout",
          "text": [
            "You can play.\n",
            "al\n",
            "bea\n"
          ]
        }
      ],
      "source": [
        "players = ['al', 'bea', 'cyn', 'dale']\n",
        "player='al'\n",
        "player2='bea'\n",
        "if player and player2 in players:\n",
        "\tprint('You can play.')\n",
        "\tprint(player)\n",
        "\tprint(player2)\n",
        "else: (print('You cannot play.'))"
      ]
    },
    {
      "cell_type": "markdown",
      "metadata": {
        "id": "QFNZOwBVKJ3H"
      },
      "source": [
        "### Looping through a list:"
      ]
    },
    {
      "cell_type": "code",
      "execution_count": null,
      "metadata": {
        "id": "ycFXSlEgFulN"
      },
      "outputs": [],
      "source": [
        "players = [9, 'al', 'bea', 'cyn', 'dale']\n",
        "for player in players:\n",
        " print(f'{player} you can play!')\n",
        " print(str(player)+ \" you can play!\")\n",
        " print(player, \"you can play!\")"
      ]
    },
    {
      "cell_type": "markdown",
      "metadata": {
        "id": "PGOLs9jfKXN1"
      },
      "source": [
        "### Excluding a player from the list:"
      ]
    },
    {
      "cell_type": "code",
      "execution_count": null,
      "metadata": {
        "id": "_IUkRT9AKYyW",
        "colab": {
          "base_uri": "https://localhost:8080/"
        },
        "outputId": "44e10dac-d769-4181-c37e-d5bfe06129c8"
      },
      "outputs": [
        {
          "output_type": "stream",
          "name": "stdout",
          "text": [
            "al can play.\n",
            "bea can play.\n",
            "Sorry cyn cannot play.\n",
            "Sorry dale cannot play.\n"
          ]
        }
      ],
      "source": [
        "players = ['al', 'bea', 'cyn', 'dale']\n",
        "\n",
        "for player in players:\n",
        "  if player == \"cyn\" or player == \"dale\":\n",
        "    print(f'Sorry {player} cannot play.')\n",
        "  else:\n",
        "    print(f'{player} can play.')\n",
        "#    print(player + \" can play\")\n"
      ]
    },
    {
      "cell_type": "markdown",
      "metadata": {
        "id": "xw9w49nAKr65"
      },
      "source": [
        "### Excluding multiple players from the list:"
      ]
    },
    {
      "cell_type": "code",
      "source": [
        "players = ['al', 'bea', 'cyn', 'dale']\n",
        "exclude= ['bea', 'cyn']\n",
        "\n",
        "for player in players:\n",
        "  if player in exclude:\n",
        "    print(f'Sorry {player.title()}, you cannot play.')\n",
        "  else: print(f'{player.upper()}, you can play!')\n"
      ],
      "metadata": {
        "colab": {
          "base_uri": "https://localhost:8080/"
        },
        "id": "s028yMZc7e47",
        "outputId": "0255ed58-0f63-497e-d052-61a8cf512a06"
      },
      "execution_count": null,
      "outputs": [
        {
          "output_type": "stream",
          "name": "stdout",
          "text": [
            "AL, you can play!\n",
            "Sorry Bea, you cannot play.\n",
            "Sorry Cyn, you cannot play.\n",
            "DALE, you can play!\n"
          ]
        }
      ]
    },
    {
      "cell_type": "code",
      "execution_count": null,
      "metadata": {
        "id": "wUPl3yZNKtHi",
        "colab": {
          "base_uri": "https://localhost:8080/"
        },
        "outputId": "9762fe65-4855-4e56-d5f8-93ae2a6a3348"
      },
      "outputs": [
        {
          "output_type": "stream",
          "name": "stdout",
          "text": [
            "al is a freshman.\n",
            "Sorry bea cannot play.\n",
            "Sorry cyn cannot play.\n",
            "dale is great!\n"
          ]
        }
      ],
      "source": [
        "players = ['al', 'bea', 'cyn', 'dale']\n",
        "exclude= ['bea', 'cyn']\n",
        "stars=['dale', 'bea']\n",
        "freshmans=['al']\n",
        "for player in players:\n",
        "  if player in exclude:\n",
        "    print(f'Sorry {player} cannot play.')\n",
        "  elif player in stars:\n",
        "    print(f'{player} is great!')\n",
        "  elif player in freshmans:\n",
        "    print(f'{player} is a freshman.')\n",
        "  else:\n",
        "    print(f'{player} can play.')"
      ]
    },
    {
      "cell_type": "markdown",
      "metadata": {
        "id": "ENDpmJeHLo2J"
      },
      "source": [
        "### Checking for an empty list"
      ]
    },
    {
      "cell_type": "code",
      "execution_count": null,
      "metadata": {
        "id": "e5NZvYb7LyH3",
        "colab": {
          "base_uri": "https://localhost:8080/"
        },
        "outputId": "59398a23-f321-4ae3-b0ba-d7c8abdb7eb1"
      },
      "outputs": [
        {
          "output_type": "stream",
          "name": "stdout",
          "text": [
            "Sorry ted cannot play.\n",
            "Sorry john cannot play.\n",
            "['ted', 'john']\n",
            "['al', 'bea', 'cyn', 'dale']\n"
          ]
        }
      ],
      "source": [
        "players = ['al', 'bea', 'cyn', 'dale','john','ted']\n",
        "exclude=[]\n",
        "\n",
        "x=players.pop()\n",
        "exclude.append(x)\n",
        "\n",
        "if exclude:\n",
        "  for player in exclude:\n",
        "    print(f'Sorry {player} cannot play.')\n",
        "else: print('Everyone can play.')\n",
        "print(exclude)\n",
        "print(players)"
      ]
    },
    {
      "cell_type": "code",
      "source": [
        "players = ['al', 'bea', 'cyn', 'dale','john','ted']\n",
        "exclude=[]\n",
        "while players:\n",
        "  x=players.pop()\n",
        "  exclude.append(x)\n",
        "\n",
        "if exclude:\n",
        "  for player in exclude:\n",
        "    print(f'Sorry {player} cannot play.')\n",
        "else: print('Everyone can play.')\n",
        "print(exclude)\n",
        "print(players)"
      ],
      "metadata": {
        "colab": {
          "base_uri": "https://localhost:8080/"
        },
        "id": "bS8kNBdm_wbQ",
        "outputId": "0929c2d8-b61f-43f5-dbd1-927a34fa47b2"
      },
      "execution_count": null,
      "outputs": [
        {
          "output_type": "stream",
          "name": "stdout",
          "text": [
            "Sorry ted cannot play.\n",
            "Sorry john cannot play.\n",
            "Sorry dale cannot play.\n",
            "Sorry cyn cannot play.\n",
            "Sorry bea cannot play.\n",
            "Sorry al cannot play.\n",
            "['ted', 'john', 'dale', 'cyn', 'bea', 'al']\n",
            "[]\n"
          ]
        }
      ]
    }
  ],
  "metadata": {
    "colab": {
      "provenance": []
    },
    "kernelspec": {
      "display_name": "Python 3",
      "name": "python3"
    }
  },
  "nbformat": 4,
  "nbformat_minor": 0
}