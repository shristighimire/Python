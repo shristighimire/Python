{
  "nbformat": 4,
  "nbformat_minor": 0,
  "metadata": {
    "colab": {
      "provenance": []
    },
    "kernelspec": {
      "name": "python3",
      "display_name": "Python 3"
    },
    "language_info": {
      "name": "python"
    }
  },
  "cells": [
    {
      "cell_type": "code",
      "execution_count": null,
      "metadata": {
        "id": "Lq9TpPPRk73T",
        "colab": {
          "base_uri": "https://localhost:8080/"
        },
        "outputId": "99a64ad0-055f-4fc8-e11f-b773d5cd3249"
      },
      "outputs": [
        {
          "output_type": "stream",
          "name": "stdout",
          "text": [
            "mandy\n",
            "zebra\n"
          ]
        }
      ],
      "source": [
        "students=['anna','zebra','hanna','mandy']\n",
        "print(students[-1])\n",
        "print(students[-3])"
      ]
    },
    {
      "cell_type": "code",
      "source": [
        "students.insert(1,'jason')\n",
        "students.insert(-1,'john')\n",
        "students.insert(0,'Shri')\n",
        "students.append('Hannah')\n",
        "print(students)"
      ],
      "metadata": {
        "colab": {
          "base_uri": "https://localhost:8080/"
        },
        "id": "Cr13d3IhuaqY",
        "outputId": "8306c4ef-097b-4b04-edcc-d8de0765d902"
      },
      "execution_count": null,
      "outputs": [
        {
          "output_type": "stream",
          "name": "stdout",
          "text": [
            "['Shri', 'anna', 'jason', 'jason', 'jason', 'jason', 'jason', 'hanna', 'john', 'mandy', 'john', 'Hannah', 'Hannah']\n"
          ]
        }
      ]
    },
    {
      "cell_type": "code",
      "source": [
        "del students[3:5]\n",
        "print(students)"
      ],
      "metadata": {
        "colab": {
          "base_uri": "https://localhost:8080/"
        },
        "id": "q7CRC6dwvujh",
        "outputId": "fdf24323-31b8-4460-e710-2027235c9375"
      },
      "execution_count": null,
      "outputs": [
        {
          "output_type": "stream",
          "name": "stdout",
          "text": [
            "['Shri', 'anna', 'jason', 'hanna', 'john', 'mandy']\n"
          ]
        }
      ]
    },
    {
      "cell_type": "code",
      "source": [
        "students.remove('jason')\n",
        "print(students)"
      ],
      "metadata": {
        "colab": {
          "base_uri": "https://localhost:8080/"
        },
        "id": "Sbi2K7aYwbMK",
        "outputId": "7e395bae-437f-4f2a-928c-0d4b95565665"
      },
      "execution_count": null,
      "outputs": [
        {
          "output_type": "stream",
          "name": "stdout",
          "text": [
            "['Shri', 'anna', 'hanna', 'john', 'mandy']\n"
          ]
        }
      ]
    },
    {
      "cell_type": "code",
      "source": [
        "students.pop(-2)\n",
        "print(students)"
      ],
      "metadata": {
        "colab": {
          "base_uri": "https://localhost:8080/"
        },
        "id": "51bn00tMwmtd",
        "outputId": "ac26f0ce-bb54-4e77-a766-48934b2d4d25"
      },
      "execution_count": null,
      "outputs": [
        {
          "output_type": "stream",
          "name": "stdout",
          "text": [
            "['Shri', 'anna', 'hanna', 'mandy']\n"
          ]
        }
      ]
    },
    {
      "cell_type": "code",
      "source": [
        "students=['haha','hehe','huhu']\n",
        "print(students)"
      ],
      "metadata": {
        "colab": {
          "base_uri": "https://localhost:8080/"
        },
        "id": "uTQp0yGuyVkc",
        "outputId": "ebedd33b-71da-4850-e651-359d332c38e1"
      },
      "execution_count": null,
      "outputs": [
        {
          "output_type": "stream",
          "name": "stdout",
          "text": [
            "['haha', 'hehe', 'huhu']\n"
          ]
        }
      ]
    },
    {
      "cell_type": "code",
      "source": [
        "students.pop()   #if there is nothing mentioned in the parenthesis, then it pops the last value\n",
        "print(students)"
      ],
      "metadata": {
        "colab": {
          "base_uri": "https://localhost:8080/"
        },
        "id": "tikDaW6yzCmg",
        "outputId": "5c9ea2fa-e82a-4f75-d768-c7bdca5576bf"
      },
      "execution_count": null,
      "outputs": [
        {
          "output_type": "stream",
          "name": "stdout",
          "text": [
            "['haha', 'hehe']\n"
          ]
        }
      ]
    },
    {
      "cell_type": "code",
      "source": [
        "a=students.pop()\n",
        "print(students)"
      ],
      "metadata": {
        "colab": {
          "base_uri": "https://localhost:8080/"
        },
        "id": "Y0UfEIOozUG1",
        "outputId": "cb45a837-a211-436c-f65f-c5500ff3190c"
      },
      "execution_count": null,
      "outputs": [
        {
          "output_type": "stream",
          "name": "stdout",
          "text": [
            "['haha']\n"
          ]
        }
      ]
    },
    {
      "cell_type": "code",
      "source": [
        "print(a)  #we are storing the values we removed from the list as a"
      ],
      "metadata": {
        "colab": {
          "base_uri": "https://localhost:8080/"
        },
        "id": "M-i_ZNDEzaYS",
        "outputId": "003beb12-70cd-4749-8faa-0501ab012769"
      },
      "execution_count": null,
      "outputs": [
        {
          "output_type": "stream",
          "name": "stdout",
          "text": [
            "hehe\n"
          ]
        }
      ]
    },
    {
      "cell_type": "code",
      "source": [
        "classes=['python','statstics','java','religion']\n",
        "a= classes.pop(0)\n",
        "b= classes.pop(2)\n",
        "finished_classes=classes.append(a)\n",
        "finished_classes=classes.append(b)\n",
        "print(classes)\n",
        "print(finished_classes)"
      ],
      "metadata": {
        "colab": {
          "base_uri": "https://localhost:8080/"
        },
        "id": "oBu2ZxCw0SML",
        "outputId": "db3ead40-1034-4f82-e8cd-c70b92fbede1"
      },
      "execution_count": null,
      "outputs": [
        {
          "output_type": "stream",
          "name": "stdout",
          "text": [
            "['statstics', 'java', 'python', 'religion']\n",
            "None\n"
          ]
        }
      ]
    },
    {
      "cell_type": "markdown",
      "source": [
        "Sort"
      ],
      "metadata": {
        "id": "hEgEqFv12_XJ"
      }
    },
    {
      "cell_type": "code",
      "source": [
        "classes=['python','statstics','java','religion']\n",
        "print(sorted(classes))    #this only temporarily sorts the order so if you print students again\n",
        "print(classes)            #so the value of classes is still the same\n",
        "classes.sort()             #but this changes the value of class for the whole code\n",
        "print(classes)             #so here the results are different\n",
        "classes.sort(reverse=True)  #this is to make the list exactly reversed\n",
        "print(classes)"
      ],
      "metadata": {
        "colab": {
          "base_uri": "https://localhost:8080/"
        },
        "id": "ru8vm5_f1jS9",
        "outputId": "3cccfcb4-d348-4379-8448-317c1c684672"
      },
      "execution_count": null,
      "outputs": [
        {
          "output_type": "stream",
          "name": "stdout",
          "text": [
            "['java', 'python', 'religion', 'statstics']\n",
            "['python', 'statstics', 'java', 'religion']\n",
            "['java', 'python', 'religion', 'statstics']\n",
            "['statstics', 'religion', 'python', 'java']\n"
          ]
        }
      ]
    }
  ]
}