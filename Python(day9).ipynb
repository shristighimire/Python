{
  "nbformat": 4,
  "nbformat_minor": 0,
  "metadata": {
    "colab": {
      "provenance": []
    },
    "kernelspec": {
      "name": "python3",
      "display_name": "Python 3"
    },
    "language_info": {
      "name": "python"
    }
  },
  "cells": [
    {
      "cell_type": "markdown",
      "source": [
        "List"
      ],
      "metadata": {
        "id": "iT5Q3j1v9m2O"
      }
    },
    {
      "cell_type": "code",
      "execution_count": null,
      "metadata": {
        "colab": {
          "base_uri": "https://localhost:8080/"
        },
        "id": "yrjI3f1E24h-",
        "outputId": "0da7fa9b-eee5-489e-fb86-a7f70491a519"
      },
      "outputs": [
        {
          "output_type": "stream",
          "name": "stdout",
          "text": [
            "['Ben', 'Tina', 'Shristi', 'Diane', 'John']\n",
            "Diane\n",
            "John\n",
            "Ben\n",
            "Gavin\n"
          ]
        }
      ],
      "source": [
        "friends=['Ben', 'Tina', 'Shristi', 'Diane', 'John']\n",
        "print(friends)\n",
        "print(friends[-2])\n",
        "print(friends[-1])     #last item's index is -1 or 5\n",
        "print(friends[-5])     #first items's index is -5 or 0\n",
        "friends[-2]='Gavin'    #This is when we want to replace someone with someone new in the original list without having to acess it.\n",
        "print(friends[-2])"
      ]
    },
    {
      "cell_type": "markdown",
      "source": [
        "Example 2"
      ],
      "metadata": {
        "id": "rCDioRpg80Uv"
      }
    },
    {
      "cell_type": "code",
      "source": [
        "friends=[\"tina\", \"Gavin\",\"Shristi\",\"mo\", 'tina']\n",
        "print(friends)"
      ],
      "metadata": {
        "colab": {
          "base_uri": "https://localhost:8080/"
        },
        "id": "Y97Hoeq38xGv",
        "outputId": "1eb3b46e-56c8-4406-c3ab-de8b13f39953"
      },
      "execution_count": null,
      "outputs": [
        {
          "output_type": "stream",
          "name": "stdout",
          "text": [
            "['tina', 'Gavin', 'Shristi', 'mo', 'tina']\n"
          ]
        }
      ]
    },
    {
      "cell_type": "markdown",
      "source": [
        "Append"
      ],
      "metadata": {
        "id": "Q6gQXqk79p-O"
      }
    },
    {
      "cell_type": "code",
      "source": [
        "friends.append('Jennifer')  # note: only run this once because it keeps adding jennifer as many times as you run it again\n",
        "print(friends)"
      ],
      "metadata": {
        "colab": {
          "base_uri": "https://localhost:8080/"
        },
        "id": "_6k8W5Y3-HSO",
        "outputId": "7191f9a5-2293-47c4-972d-a906a267ea59"
      },
      "execution_count": null,
      "outputs": [
        {
          "output_type": "stream",
          "name": "stdout",
          "text": [
            "['tina', 'Gavin', 'Shristi', 'mo', 'tina', 'Jennifer', 'Jennifer', 'Jennifer', 'Jennifer', 'Jennifer', 'Jennifer', 'Jennifer']\n"
          ]
        }
      ]
    },
    {
      "cell_type": "code",
      "source": [
        "print(friends[-4])\n",
        "type(friends)"
      ],
      "metadata": {
        "colab": {
          "base_uri": "https://localhost:8080/"
        },
        "id": "nhZG_hkW-QHt",
        "outputId": "9f7c6cee-1e4c-429d-f7d8-141811ae93c0"
      },
      "execution_count": null,
      "outputs": [
        {
          "output_type": "stream",
          "name": "stdout",
          "text": [
            "Jennifer\n"
          ]
        },
        {
          "output_type": "execute_result",
          "data": {
            "text/plain": [
              "list"
            ]
          },
          "metadata": {},
          "execution_count": 26
        }
      ]
    },
    {
      "cell_type": "markdown",
      "source": [
        "Insert"
      ],
      "metadata": {
        "id": "DEC-Nm-F-uIY"
      }
    },
    {
      "cell_type": "code",
      "source": [
        "friends.insert(0,'John')  #the number is where you want to keep it and remember positive number starts from first and with 0 but negative number starts with -1 and from the last\n",
        "print(friends)"
      ],
      "metadata": {
        "colab": {
          "base_uri": "https://localhost:8080/"
        },
        "id": "KpENI725-vaG",
        "outputId": "435bb08f-01cf-4e9c-bb8d-b04a9983e23b"
      },
      "execution_count": null,
      "outputs": [
        {
          "output_type": "stream",
          "name": "stdout",
          "text": [
            "['John', 'tina', 'Gavin', 'Shristi', 'mo', 'tina', 'Jennifer', 'Jennifer', 'Jennifer', 'Jennifer', 'Jennifer', 'Jennifer', 'Jennifer']\n"
          ]
        }
      ]
    },
    {
      "cell_type": "code",
      "source": [
        "friends.insert(4,\"max\")\n",
        "print(friends)\n",
        "friends.insert(-11,\"Ankita\")\n",
        "print(friends)"
      ],
      "metadata": {
        "colab": {
          "base_uri": "https://localhost:8080/"
        },
        "id": "_p2MaHGfAI9U",
        "outputId": "b3e99102-6f89-48ee-a664-0b1490236e63"
      },
      "execution_count": null,
      "outputs": [
        {
          "output_type": "stream",
          "name": "stdout",
          "text": [
            "['John', 'tina', 'Gavin', 'Shristi', 'max', 'max', 'Ankita', 'max', 'mo', 'max', 'tina', 'Jennifer', 'Jennifer', 'Jennifer', 'Jennifer', 'Jennifer', 'Jennifer', 'Jennifer']\n",
            "['John', 'tina', 'Gavin', 'Shristi', 'max', 'max', 'Ankita', 'Ankita', 'max', 'mo', 'max', 'tina', 'Jennifer', 'Jennifer', 'Jennifer', 'Jennifer', 'Jennifer', 'Jennifer', 'Jennifer']\n"
          ]
        }
      ]
    },
    {
      "cell_type": "markdown",
      "source": [
        "Delete"
      ],
      "metadata": {
        "id": "4cFOTSdpA7xq"
      }
    },
    {
      "cell_type": "code",
      "source": [
        "print(friends)\n",
        "del friends[-3:-1]\n",
        "print(friends)"
      ],
      "metadata": {
        "colab": {
          "base_uri": "https://localhost:8080/"
        },
        "id": "dNnqNbh0A7fv",
        "outputId": "b2c3ddb8-cff8-41bf-96c9-08292ba0e3ba"
      },
      "execution_count": null,
      "outputs": [
        {
          "output_type": "stream",
          "name": "stdout",
          "text": [
            "['Gavin', 'Shristi', 'max', 'max', 'Ankita', 'Ankita', 'max', 'mo', 'max', 'tina', 'Jennifer']\n",
            "['Gavin', 'Shristi', 'max', 'max', 'Ankita', 'Ankita', 'max', 'mo', 'Jennifer']\n"
          ]
        }
      ]
    },
    {
      "cell_type": "markdown",
      "source": [
        "Remove method of delete"
      ],
      "metadata": {
        "id": "hjHjEoV2Egfs"
      }
    },
    {
      "cell_type": "code",
      "source": [
        "friends.remove('max')          #it only removes the first instance of max  #if you keep running it again, then it will remove all instances of max\n",
        "print(friends)"
      ],
      "metadata": {
        "colab": {
          "base_uri": "https://localhost:8080/"
        },
        "id": "FA-O3ZghDWgs",
        "outputId": "e77853f3-19d0-43ea-be8d-d2a00c0db9a8"
      },
      "execution_count": null,
      "outputs": [
        {
          "output_type": "stream",
          "name": "stdout",
          "text": [
            "['Gavin', 'Shristi', 'Ankita', 'Ankita', 'max', 'mo', 'Jennifer']\n"
          ]
        }
      ]
    },
    {
      "cell_type": "markdown",
      "source": [
        "pop method of delete"
      ],
      "metadata": {
        "id": "zpeCmSNXEc6b"
      }
    },
    {
      "cell_type": "code",
      "source": [
        "print(friends)\n",
        "friends.pop(2)\n",
        "print(friends)"
      ],
      "metadata": {
        "colab": {
          "base_uri": "https://localhost:8080/",
          "height": 210
        },
        "id": "zK4d3LRTEcHH",
        "outputId": "427b0f0d-abc7-4119-a1d0-ea278e5d89b6"
      },
      "execution_count": null,
      "outputs": [
        {
          "output_type": "error",
          "ename": "NameError",
          "evalue": "ignored",
          "traceback": [
            "\u001b[0;31m---------------------------------------------------------------------------\u001b[0m",
            "\u001b[0;31mNameError\u001b[0m                                 Traceback (most recent call last)",
            "\u001b[0;32m<ipython-input-2-a99d812387da>\u001b[0m in \u001b[0;36m<cell line: 1>\u001b[0;34m()\u001b[0m\n\u001b[0;32m----> 1\u001b[0;31m \u001b[0mprint\u001b[0m\u001b[0;34m(\u001b[0m\u001b[0mfriends\u001b[0m\u001b[0;34m)\u001b[0m\u001b[0;34m\u001b[0m\u001b[0;34m\u001b[0m\u001b[0m\n\u001b[0m\u001b[1;32m      2\u001b[0m \u001b[0mfriends\u001b[0m\u001b[0;34m.\u001b[0m\u001b[0mpop\u001b[0m\u001b[0;34m(\u001b[0m\u001b[0;36m2\u001b[0m\u001b[0;34m)\u001b[0m\u001b[0;34m\u001b[0m\u001b[0;34m\u001b[0m\u001b[0m\n\u001b[1;32m      3\u001b[0m \u001b[0mprint\u001b[0m\u001b[0;34m(\u001b[0m\u001b[0mfriends\u001b[0m\u001b[0;34m)\u001b[0m\u001b[0;34m\u001b[0m\u001b[0;34m\u001b[0m\u001b[0m\n",
            "\u001b[0;31mNameError\u001b[0m: name 'friends' is not defined"
          ]
        }
      ]
    },
    {
      "cell_type": "code",
      "source": [],
      "metadata": {
        "id": "w7O2D0f96Qfm"
      },
      "execution_count": null,
      "outputs": []
    },
    {
      "cell_type": "code",
      "source": [
        "friends=['bb','aa','cc']\n",
        "print(friends)\n",
        "friends.pop(2)\n",
        "print(friends)\n",
        "friends.pop()\n",
        "print(friends)"
      ],
      "metadata": {
        "colab": {
          "base_uri": "https://localhost:8080/"
        },
        "outputId": "d6bdab6d-82aa-4724-b4c5-3af73304da08",
        "id": "LO9-wPz96R_y"
      },
      "execution_count": null,
      "outputs": [
        {
          "output_type": "stream",
          "name": "stdout",
          "text": [
            "['bb', 'aa', 'cc']\n",
            "['bb', 'aa']\n",
            "['bb']\n"
          ]
        }
      ]
    },
    {
      "cell_type": "code",
      "source": [
        "friends=[\"tina\",\"19\",\"shristi\",'20']\n",
        "print(friends[0],\"is\" , friends[1] , \"year old.\")\n",
        "print(f'{friends[0]} is {friends[1]} years old.') #in f string we don't need \"\" or commas"
      ],
      "metadata": {
        "colab": {
          "base_uri": "https://localhost:8080/"
        },
        "id": "tQ7QYzPSFYCt",
        "outputId": "03e0d749-2ff7-4704-bcc1-3c8b4485061c"
      },
      "execution_count": null,
      "outputs": [
        {
          "output_type": "stream",
          "name": "stdout",
          "text": [
            "tina is 19 year old.\n",
            "tina is 19 years old.\n"
          ]
        }
      ]
    },
    {
      "cell_type": "markdown",
      "source": [
        "Concatunate"
      ],
      "metadata": {
        "id": "RcaoTyXaHUzE"
      }
    },
    {
      "cell_type": "code",
      "source": [
        "friends=[\"tina\",20,\"Gavin\",19]\n",
        "print(friends[0]+\" is \"+ str(friends[1]) + \" years old.\")"
      ],
      "metadata": {
        "colab": {
          "base_uri": "https://localhost:8080/"
        },
        "id": "QQdmZPOfGzBo",
        "outputId": "aeeed7c6-dce9-4d1c-e7f8-696544c1e658"
      },
      "execution_count": null,
      "outputs": [
        {
          "output_type": "stream",
          "name": "stdout",
          "text": [
            "tina is 20 years old.\n"
          ]
        }
      ]
    },
    {
      "cell_type": "code",
      "source": [
        "print(type(20))"
      ],
      "metadata": {
        "colab": {
          "base_uri": "https://localhost:8080/"
        },
        "id": "kjSp46NaIAXB",
        "outputId": "9a09f8b3-dad8-4415-ed94-c366ee53a399"
      },
      "execution_count": null,
      "outputs": [
        {
          "output_type": "stream",
          "name": "stdout",
          "text": [
            "<class 'int'>\n"
          ]
        }
      ]
    }
  ]
}