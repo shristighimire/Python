{
  "nbformat": 4,
  "nbformat_minor": 0,
  "metadata": {
    "colab": {
      "provenance": []
    },
    "kernelspec": {
      "name": "python3",
      "display_name": "Python 3"
    },
    "language_info": {
      "name": "python"
    }
  },
  "cells": [
    {
      "cell_type": "markdown",
      "source": [
        "4.1 Food"
      ],
      "metadata": {
        "id": "EMhFn32G50h2"
      }
    },
    {
      "cell_type": "code",
      "execution_count": null,
      "metadata": {
        "colab": {
          "base_uri": "https://localhost:8080/"
        },
        "id": "PXAx8AEp5Mc-",
        "outputId": "5ce977df-8d5a-453b-e2b5-1e01526e0508"
      },
      "outputs": [
        {
          "output_type": "stream",
          "name": "stdout",
          "text": [
            "['Pizza', 'Apple', 'Chocolate']\n"
          ]
        }
      ],
      "source": [
        "# List of favorite foods\n",
        "favorite_foods = [\"Pizza\", \"Apple\", \"Chocolate\"]\n",
        "print(favorite_foods)"
      ]
    },
    {
      "cell_type": "code",
      "source": [
        "#a.) Using a for loop to print the name of each food\n",
        "for food in favorite_foods:\n",
        "    print(food)\n"
      ],
      "metadata": {
        "colab": {
          "base_uri": "https://localhost:8080/"
        },
        "id": "CDOtVL_t5eIw",
        "outputId": "1506c054-f5ee-42ca-db6e-002c2eda038e"
      },
      "execution_count": null,
      "outputs": [
        {
          "output_type": "stream",
          "name": "stdout",
          "text": [
            "Pizza\n",
            "Apple\n",
            "Chocolate\n"
          ]
        }
      ]
    },
    {
      "cell_type": "code",
      "source": [
        "#b.) & c.) Modifying the loop to print a sentence and A line stating how much you like food\n",
        "for food in favorite_foods:\n",
        "    print(\"I like \" + food + \".\")\n",
        "print(\"I really enjoy food!\")"
      ],
      "metadata": {
        "colab": {
          "base_uri": "https://localhost:8080/"
        },
        "id": "lNoBNpGC5njv",
        "outputId": "435c1ae2-bb59-4849-9279-feb74c09b577"
      },
      "execution_count": null,
      "outputs": [
        {
          "output_type": "stream",
          "name": "stdout",
          "text": [
            "I like Pizza.\n",
            "I like Apple.\n",
            "I like Chocolate.\n",
            "I really enjoy food!\n"
          ]
        }
      ]
    },
    {
      "cell_type": "markdown",
      "source": [
        "4.2 Animals"
      ],
      "metadata": {
        "id": "kNSQgu0_64V7"
      }
    },
    {
      "cell_type": "code",
      "source": [
        "animals = [\"dog\", \"cat\", \"elephant\", \"lion\", \"dolphin\"]\n",
        "for animal in animals:\n",
        "    print(animal)"
      ],
      "metadata": {
        "colab": {
          "base_uri": "https://localhost:8080/"
        },
        "id": "0p3FxO6H6xc_",
        "outputId": "42c79670-5657-4221-cce0-fe3fa912b730"
      },
      "execution_count": null,
      "outputs": [
        {
          "output_type": "stream",
          "name": "stdout",
          "text": [
            "dog\n",
            "cat\n",
            "elephant\n",
            "lion\n",
            "dolphin\n"
          ]
        }
      ]
    },
    {
      "cell_type": "code",
      "source": [
        "animals = [\"dog\", \"cat\", \"elephant\", \"lion\", \"dolphin\"]\n",
        "for animal in animals:\n",
        "    print(\"A \" + animal + \" would make a great pet.\")\n",
        "print()\n",
        "print(\"Any of these animals would make a great pet!\")\n"
      ],
      "metadata": {
        "colab": {
          "base_uri": "https://localhost:8080/"
        },
        "id": "Y878bjjq7GdM",
        "outputId": "b0222135-f2cd-43fd-ed5a-2debfc39caaf"
      },
      "execution_count": null,
      "outputs": [
        {
          "output_type": "stream",
          "name": "stdout",
          "text": [
            "A dog would make a great pet.\n",
            "A cat would make a great pet.\n",
            "A elephant would make a great pet.\n",
            "A lion would make a great pet.\n",
            "A dolphin would make a great pet.\n",
            "\n",
            "Any of these animals would make a great pet!\n"
          ]
        }
      ]
    },
    {
      "cell_type": "markdown",
      "source": [
        "4.3 Counting to twenty"
      ],
      "metadata": {
        "id": "KbSaFQYg7jBM"
      }
    },
    {
      "cell_type": "code",
      "source": [
        "for number in range(1, 21):\n",
        "    print(number)\n",
        "total = sum(range(1, 21))\n",
        "print(\"Total sum of numbers from 1 to 20:\", total)\n"
      ],
      "metadata": {
        "colab": {
          "base_uri": "https://localhost:8080/"
        },
        "id": "tbF7gGGi5_7L",
        "outputId": "32fa7d66-b96a-4c60-c377-a0ef2178f8e4"
      },
      "execution_count": null,
      "outputs": [
        {
          "output_type": "stream",
          "name": "stdout",
          "text": [
            "1\n",
            "2\n",
            "3\n",
            "4\n",
            "5\n",
            "6\n",
            "7\n",
            "8\n",
            "9\n",
            "10\n",
            "11\n",
            "12\n",
            "13\n",
            "14\n",
            "15\n",
            "16\n",
            "17\n",
            "18\n",
            "19\n",
            "20\n",
            "Total sum of numbers from 1 to 20: 210\n"
          ]
        }
      ]
    },
    {
      "cell_type": "markdown",
      "source": [
        "4.4 Counting to one million"
      ],
      "metadata": {
        "id": "sVXJ0JF_71yp"
      }
    },
    {
      "cell_type": "code",
      "source": [
        "numbers = list(range(1, 1000001))\n",
        "print(\"Minimum:\", min(numbers))\n",
        "print(\"Maximum:\", max(numbers))\n",
        "total = sum(numbers)\n",
        "print(\"Sum of a million numbers:\", total)"
      ],
      "metadata": {
        "colab": {
          "base_uri": "https://localhost:8080/"
        },
        "id": "Glv8Y5aL7rKT",
        "outputId": "3def8b5a-b0ad-48a2-ef5e-2909bbca2273"
      },
      "execution_count": null,
      "outputs": [
        {
          "output_type": "stream",
          "name": "stdout",
          "text": [
            "Minimum: 1\n",
            "Maximum: 1000000\n",
            "Sum of a million numbers: 500000500000\n"
          ]
        }
      ]
    },
    {
      "cell_type": "markdown",
      "source": [
        "4.5 Odd Numbers"
      ],
      "metadata": {
        "id": "v7_8yxCl76eB"
      }
    },
    {
      "cell_type": "code",
      "source": [
        "odd_numbers = list(range(1, 21, 2))\n",
        "for number in odd_numbers:\n",
        "    print(number)"
      ],
      "metadata": {
        "colab": {
          "base_uri": "https://localhost:8080/"
        },
        "id": "sgbJqIaL7-tg",
        "outputId": "026f436c-34e4-4e2e-9d74-faca3929f8cd"
      },
      "execution_count": null,
      "outputs": [
        {
          "output_type": "stream",
          "name": "stdout",
          "text": [
            "1\n",
            "3\n",
            "5\n",
            "7\n",
            "9\n",
            "11\n",
            "13\n",
            "15\n",
            "17\n",
            "19\n"
          ]
        }
      ]
    },
    {
      "cell_type": "markdown",
      "source": [
        "4.6 Cubes"
      ],
      "metadata": {
        "id": "zU_t51Mp8Kq1"
      }
    },
    {
      "cell_type": "code",
      "source": [
        "cubes = [x**3 for x in range(1, 11)]\n",
        "for cube in cubes:\n",
        "    print(cube)"
      ],
      "metadata": {
        "colab": {
          "base_uri": "https://localhost:8080/"
        },
        "id": "fGVg4-Uw8KMV",
        "outputId": "c61061bc-48e5-4722-843e-23e441e79cef"
      },
      "execution_count": null,
      "outputs": [
        {
          "output_type": "stream",
          "name": "stdout",
          "text": [
            "1\n",
            "8\n",
            "27\n",
            "64\n",
            "125\n",
            "216\n",
            "343\n",
            "512\n",
            "729\n",
            "1000\n"
          ]
        }
      ]
    },
    {
      "cell_type": "markdown",
      "source": [
        "4.7 Slicing a list"
      ],
      "metadata": {
        "id": "JvzAd_aP8amU"
      }
    },
    {
      "cell_type": "code",
      "source": [
        "#a.)\n",
        "for i in range(3):\n",
        "    print(animals[i])\n",
        "#b.)\n",
        "print(animals[:3])\n",
        "#c.)\n",
        "print(\"The last three items in the list are:\", animals[-3:])"
      ],
      "metadata": {
        "colab": {
          "base_uri": "https://localhost:8080/"
        },
        "id": "Wha-5r1W8cNa",
        "outputId": "624f423e-6686-4d71-ca16-b06d3542c816"
      },
      "execution_count": null,
      "outputs": [
        {
          "output_type": "stream",
          "name": "stdout",
          "text": [
            "dog\n",
            "cat\n",
            "elephant\n",
            "['dog', 'cat', 'elephant']\n",
            "The last three items in the list are: ['elephant', 'lion', 'dolphin']\n"
          ]
        }
      ]
    },
    {
      "cell_type": "markdown",
      "source": [
        "4.8 Sorting a list and a tuple"
      ],
      "metadata": {
        "id": "XNUs6KTN9Ap4"
      }
    },
    {
      "cell_type": "code",
      "source": [
        "copied_animals = animals.copy()\n",
        "print(\"Original list:\", animals)\n",
        "copied_animals.sort()\n",
        "print(\"Alphabetized copied list:\", copied_animals)\n",
        "animals_tuple = tuple(animals)\n",
        "sorted_tuple = tuple(sorted(animals))\n",
        "print(\"Sorted tuple:\", sorted_tuple)"
      ],
      "metadata": {
        "colab": {
          "base_uri": "https://localhost:8080/"
        },
        "id": "wrwHi_xb9EJb",
        "outputId": "650692ee-5dd8-4563-d480-38cb4a4732d4"
      },
      "execution_count": null,
      "outputs": [
        {
          "output_type": "stream",
          "name": "stdout",
          "text": [
            "Original list: ['dog', 'cat', 'elephant', 'lion', 'dolphin']\n",
            "Alphabetized copied list: ['cat', 'dog', 'dolphin', 'elephant', 'lion']\n",
            "Sorted tuple: ('cat', 'dog', 'dolphin', 'elephant', 'lion')\n"
          ]
        }
      ]
    }
  ]
}