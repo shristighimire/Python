{
  "nbformat": 4,
  "nbformat_minor": 0,
  "metadata": {
    "colab": {
      "provenance": []
    },
    "kernelspec": {
      "name": "python3",
      "display_name": "Python 3"
    },
    "language_info": {
      "name": "python"
    }
  },
  "cells": [
    {
      "cell_type": "code",
      "execution_count": null,
      "metadata": {
        "colab": {
          "base_uri": "https://localhost:8080/"
        },
        "id": "wYVDi8lS5Sgz",
        "outputId": "8c49c1a7-eba1-4895-c28d-234423de7efc"
      },
      "outputs": [
        {
          "output_type": "stream",
          "name": "stdout",
          "text": [
            "It will change soon.\n"
          ]
        }
      ],
      "source": [
        "autumn_color=\"green\"\n",
        "if autumn_color == \"green\":\n",
        " print (\"It will change soon.\")\n",
        "else:\n",
        "  print(\"It's an autumn color.\")\n"
      ]
    },
    {
      "cell_type": "code",
      "source": [
        "autumn_color=\"yellow\"\n",
        "if autumn_color == \"green\":\n",
        " print (\"It will change soon.\")\n",
        "else:\n",
        "  print(\"It's an autumn color.\")"
      ],
      "metadata": {
        "colab": {
          "base_uri": "https://localhost:8080/"
        },
        "id": "h1iFycLs8GfX",
        "outputId": "41e59faf-c7d8-42ec-d72c-3a4d770d17ce"
      },
      "execution_count": null,
      "outputs": [
        {
          "output_type": "stream",
          "name": "stdout",
          "text": [
            "It's an autumn color.\n"
          ]
        }
      ]
    },
    {
      "cell_type": "code",
      "source": [
        "autumn_color=\"green\"\n",
        "if autumn_color == \"green\":\n",
        "  print(\"The color will soon change.\")\n",
        "elif autumn_color== \"yellow\":\n",
        "  print(\"Yellow is an autumn color.\")\n",
        "else:\n",
        "  print(\"Red is an autumn color.\")"
      ],
      "metadata": {
        "colab": {
          "base_uri": "https://localhost:8080/"
        },
        "id": "tI8XKSDA7KNn",
        "outputId": "9b2a0403-4700-4fb4-c54c-303fdbb7112e"
      },
      "execution_count": null,
      "outputs": [
        {
          "output_type": "stream",
          "name": "stdout",
          "text": [
            "The color will soon change.\n"
          ]
        }
      ]
    },
    {
      "cell_type": "code",
      "source": [
        "autumn_color=\"yellow\"\n",
        "if autumn_color == \"green\":\n",
        "  print(\"The color will soon change.\")\n",
        "elif autumn_color== \"yellow\":\n",
        "  print(\"Yellow is an autumn color.\")\n",
        "else:\n",
        "  print(\"Red is an autumn color.\")\n"
      ],
      "metadata": {
        "colab": {
          "base_uri": "https://localhost:8080/"
        },
        "id": "BD81qpOR8hmi",
        "outputId": "7e847f34-cf16-48c1-9edf-5d4f6e015b64"
      },
      "execution_count": null,
      "outputs": [
        {
          "output_type": "stream",
          "name": "stdout",
          "text": [
            "Yellow is an autumn color.\n"
          ]
        }
      ]
    },
    {
      "cell_type": "code",
      "source": [
        "autumn_color=\"red\"\n",
        "if autumn_color == \"green\":\n",
        "  print(\"The color will soon change.\")\n",
        "elif autumn_color== \"yellow\":\n",
        "  print(\"Yellow is an autumn color.\")\n",
        "else:\n",
        "  print(\"Red is an autumn color.\")\n"
      ],
      "metadata": {
        "colab": {
          "base_uri": "https://localhost:8080/"
        },
        "id": "MBJZAsz78mW4",
        "outputId": "5521472d-8ca6-476b-ca2f-524bae87059c"
      },
      "execution_count": null,
      "outputs": [
        {
          "output_type": "stream",
          "name": "stdout",
          "text": [
            "Red is an autumn color.\n"
          ]
        }
      ]
    },
    {
      "cell_type": "code",
      "source": [
        "autumn_color=[\"yellow\",\"red\",\"green\"]\n",
        "for color in autumn_color:\n",
        "  if color == \"green\":\n",
        "    print(\"The color will soon change.\")\n",
        "  elif color== \"yellow\":\n",
        "    print(\"Yellow is an autumn color.\")\n",
        "  else:\n",
        "    print(\"Red is an autumn color.\")"
      ],
      "metadata": {
        "colab": {
          "base_uri": "https://localhost:8080/"
        },
        "id": "r6ty-2Lx8r5U",
        "outputId": "53052f7b-4798-402d-d752-8b68fbec54e7"
      },
      "execution_count": null,
      "outputs": [
        {
          "output_type": "stream",
          "name": "stdout",
          "text": [
            "Yellow is an autumn color.\n",
            "Red is an autumn color.\n",
            "The color will soon change.\n"
          ]
        }
      ]
    },
    {
      "cell_type": "code",
      "source": [
        "age =input(\"How old are you? \")\n",
        "age=int(age)\n",
        "\n",
        "if age<2:\n",
        "  print(\"You are a baby.\")\n",
        "elif age<4:\n",
        "  print(\"You are a toddler.\")\n",
        "elif age<13:\n",
        "  print(\"You are a youngster.\")\n",
        "elif age<20:\n",
        "  print(\"You are a teenager.\")\n",
        "else:\n",
        "  print(\"You are an adult.\")"
      ],
      "metadata": {
        "colab": {
          "base_uri": "https://localhost:8080/"
        },
        "id": "7m1c0z3x9Ti8",
        "outputId": "1b52c26d-2242-4a8d-8805-9d7604aae7fb"
      },
      "execution_count": null,
      "outputs": [
        {
          "output_type": "stream",
          "name": "stdout",
          "text": [
            "How old are you? 20\n",
            "You are an adult\n"
          ]
        }
      ]
    },
    {
      "cell_type": "code",
      "source": [
        "current_users=[\"anna\",\"hanna\",\"shanna\",\"danna\"]\n",
        "new_users=[\"anna\",\"hanna\",\"montana\",\"janna\"]\n",
        "for users in new_users:\n",
        "  if users in current_users:\n",
        "    print(f\"The username {users} is taken.\")\n",
        "  else:\n",
        "    print(f\"The username {users} is available.\")"
      ],
      "metadata": {
        "colab": {
          "base_uri": "https://localhost:8080/"
        },
        "id": "gmBFNYeX-a8S",
        "outputId": "0ebe8ab7-eaa7-41b0-caab-b25827cf5dd0"
      },
      "execution_count": null,
      "outputs": [
        {
          "output_type": "stream",
          "name": "stdout",
          "text": [
            "The username anna is taken.\n",
            "The username hanna is taken.\n",
            "The username montana is available.\n",
            "The username janna is available.\n"
          ]
        }
      ]
    }
  ]
}