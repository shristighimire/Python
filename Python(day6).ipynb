{
  "nbformat": 4,
  "nbformat_minor": 0,
  "metadata": {
    "colab": {
      "provenance": []
    },
    "kernelspec": {
      "name": "python3",
      "display_name": "Python 3"
    },
    "language_info": {
      "name": "python"
    }
  },
  "cells": [
    {
      "cell_type": "markdown",
      "source": [
        "Option 1 - note you must code for the space"
      ],
      "metadata": {
        "id": "q53Y4EYK8_XI"
      }
    },
    {
      "cell_type": "code",
      "execution_count": 1,
      "metadata": {
        "colab": {
          "base_uri": "https://localhost:8080/"
        },
        "id": "AvHLX68W64oK",
        "outputId": "e1d90e15-e1b3-47c6-b1f1-2c11326354dd"
      },
      "outputs": [
        {
          "output_type": "stream",
          "name": "stdout",
          "text": [
            "DR. \n",
            "\tCONRAD\n"
          ]
        }
      ],
      "source": [
        "\n",
        "print(\"Dr. \\n\\tConrad\".upper())"
      ]
    },
    {
      "cell_type": "markdown",
      "source": [
        "Option 2"
      ],
      "metadata": {
        "id": "nejl19t88j4e"
      }
    },
    {
      "cell_type": "code",
      "source": [
        "name=\"Dr. Conrad\"\n",
        "print(f\"Hello \\n\\t{name}\".lower())"
      ],
      "metadata": {
        "colab": {
          "base_uri": "https://localhost:8080/"
        },
        "id": "3NosIwBW8mUv",
        "outputId": "c020a2e5-ad82-4c3b-9126-43becbd34928"
      },
      "execution_count": null,
      "outputs": [
        {
          "output_type": "stream",
          "name": "stdout",
          "text": [
            "hello \n",
            "\tdr. conrad\n"
          ]
        }
      ]
    },
    {
      "cell_type": "markdown",
      "source": [
        "Option 3"
      ],
      "metadata": {
        "id": "xDnzo1Lt8wxv"
      }
    },
    {
      "cell_type": "code",
      "source": [
        "name=\"dr. conrad\"\n",
        "x=\"professor\"\n",
        "print(\"\\t\\n\",name.upper(),x.title())\n"
      ],
      "metadata": {
        "colab": {
          "base_uri": "https://localhost:8080/"
        },
        "id": "H7rNYTY485em",
        "outputId": "1fb3c921-c278-46c5-ee99-e39e026b710b"
      },
      "execution_count": null,
      "outputs": [
        {
          "output_type": "stream",
          "name": "stdout",
          "text": [
            "\t\n",
            " DR. CONRAD Professor\n"
          ]
        }
      ]
    },
    {
      "cell_type": "code",
      "source": [
        "alpha = \"beta\"\n",
        "print(type(alpha))"
      ],
      "metadata": {
        "colab": {
          "base_uri": "https://localhost:8080/"
        },
        "id": "d0ZZ8VVCqU7k",
        "outputId": "3d669434-94be-430f-bbd0-d3dafab2581f"
      },
      "execution_count": null,
      "outputs": [
        {
          "output_type": "stream",
          "name": "stdout",
          "text": [
            "<class 'str'>\n"
          ]
        }
      ]
    },
    {
      "cell_type": "code",
      "source": [
        "print(alpha)"
      ],
      "metadata": {
        "colab": {
          "base_uri": "https://localhost:8080/"
        },
        "id": "IJ-vKyh1r_5U",
        "outputId": "0f9edaf3-b3cc-41e5-8906-cd10ef512dc7"
      },
      "execution_count": null,
      "outputs": [
        {
          "output_type": "stream",
          "name": "stdout",
          "text": [
            "3\n"
          ]
        }
      ]
    },
    {
      "cell_type": "code",
      "source": [
        "alpha=3.0\n",
        "print(type(alpha))"
      ],
      "metadata": {
        "colab": {
          "base_uri": "https://localhost:8080/"
        },
        "id": "2_dFyOHSrtSl",
        "outputId": "eb1e7f5d-4b8d-4d0a-e93e-5f78e743e6dc"
      },
      "execution_count": null,
      "outputs": [
        {
          "output_type": "stream",
          "name": "stdout",
          "text": [
            "<class 'float'>\n"
          ]
        }
      ]
    },
    {
      "cell_type": "code",
      "source": [
        "3**3"
      ],
      "metadata": {
        "colab": {
          "base_uri": "https://localhost:8080/"
        },
        "id": "qW9I_keZrVp5",
        "outputId": "5f634fa5-7089-4968-e22f-9a7cc26fa3da"
      },
      "execution_count": null,
      "outputs": [
        {
          "output_type": "execute_result",
          "data": {
            "text/plain": [
              "27"
            ]
          },
          "metadata": {},
          "execution_count": 25
        }
      ]
    },
    {
      "cell_type": "code",
      "source": [
        "gamma=3/3\n",
        "print(gamma)\n",
        "gamma=int(gamma)\n",
        "print(gamma)\n",
        "print(type(gamma))"
      ],
      "metadata": {
        "colab": {
          "base_uri": "https://localhost:8080/"
        },
        "id": "QpAW1lyAtlrF",
        "outputId": "a75e6bc5-452b-4266-d640-a7fc30aef526"
      },
      "execution_count": null,
      "outputs": [
        {
          "output_type": "stream",
          "name": "stdout",
          "text": [
            "1.0\n",
            "1\n",
            "<class 'int'>\n"
          ]
        }
      ]
    },
    {
      "cell_type": "code",
      "source": [
        "gamma=str(gamma)\n",
        "print(gamma)\n",
        "print(type(gamma))"
      ],
      "metadata": {
        "colab": {
          "base_uri": "https://localhost:8080/"
        },
        "id": "p9AFvFs4u9_T",
        "outputId": "73ef6f8b-75bc-4ea3-c751-b205a6189105"
      },
      "execution_count": null,
      "outputs": [
        {
          "output_type": "stream",
          "name": "stdout",
          "text": [
            "1\n",
            "<class 'str'>\n"
          ]
        }
      ]
    },
    {
      "cell_type": "code",
      "source": [
        "print(2+3)\n",
        "print('2'+\"3\")"
      ],
      "metadata": {
        "colab": {
          "base_uri": "https://localhost:8080/"
        },
        "id": "syXXiHiUwcqs",
        "outputId": "5c1dc290-08bd-4716-d858-206fa78201eb"
      },
      "execution_count": null,
      "outputs": [
        {
          "output_type": "stream",
          "name": "stdout",
          "text": [
            "5\n",
            "23\n"
          ]
        }
      ]
    },
    {
      "cell_type": "code",
      "source": [
        "print(2,\"3\")"
      ],
      "metadata": {
        "colab": {
          "base_uri": "https://localhost:8080/"
        },
        "id": "nyhf3hBAvWdO",
        "outputId": "0f1b4dfa-babc-42bc-c648-f43a1f6fd816"
      },
      "execution_count": null,
      "outputs": [
        {
          "output_type": "stream",
          "name": "stdout",
          "text": [
            "2 3\n"
          ]
        }
      ]
    },
    {
      "cell_type": "code",
      "source": [
        "print(str(2) +\"3\")\n",
        "print(2 + int(\"3\"))"
      ],
      "metadata": {
        "colab": {
          "base_uri": "https://localhost:8080/"
        },
        "id": "fY5Zl26xxAt7",
        "outputId": "8aef14c5-664e-4ff3-e81b-65d506d28af2"
      },
      "execution_count": null,
      "outputs": [
        {
          "output_type": "stream",
          "name": "stdout",
          "text": [
            "23\n",
            "5\n"
          ]
        }
      ]
    },
    {
      "cell_type": "code",
      "source": [
        "print(2 +float(3))"
      ],
      "metadata": {
        "colab": {
          "base_uri": "https://localhost:8080/"
        },
        "id": "DsRPkmjhxp1z",
        "outputId": "1a8a83e0-05ed-44ba-e28c-9f733fd93e0c"
      },
      "execution_count": null,
      "outputs": [
        {
          "output_type": "stream",
          "name": "stdout",
          "text": [
            "5.0\n"
          ]
        }
      ]
    },
    {
      "cell_type": "code",
      "source": [
        "print=3"
      ],
      "metadata": {
        "id": "54F9UtSeyrTK"
      },
      "execution_count": null,
      "outputs": []
    },
    {
      "cell_type": "code",
      "source": [
        "print(3)"
      ],
      "metadata": {
        "colab": {
          "base_uri": "https://localhost:8080/"
        },
        "id": "XGuDgDFHyxyJ",
        "outputId": "f21cb73c-7ac5-43e6-b9cd-d90cc9fe1b4b"
      },
      "execution_count": null,
      "outputs": [
        {
          "output_type": "stream",
          "name": "stdout",
          "text": [
            "3\n"
          ]
        }
      ]
    },
    {
      "cell_type": "code",
      "source": [
        "print('hello')"
      ],
      "metadata": {
        "colab": {
          "base_uri": "https://localhost:8080/"
        },
        "id": "TU10Ob23y7ow",
        "outputId": "9fa96df4-4241-4a6e-b949-c5ea8443e179"
      },
      "execution_count": null,
      "outputs": [
        {
          "output_type": "stream",
          "name": "stdout",
          "text": [
            "hello\n"
          ]
        }
      ]
    },
    {
      "cell_type": "code",
      "source": [
        "a=2\n",
        "b=3\n",
        "z=a*b\n",
        "print(f'He is {z} years old')"
      ],
      "metadata": {
        "colab": {
          "base_uri": "https://localhost:8080/"
        },
        "id": "-XSVVGSjzhlT",
        "outputId": "059f86fd-44e6-413b-ddc0-88defbe54cc3"
      },
      "execution_count": null,
      "outputs": [
        {
          "output_type": "stream",
          "name": "stdout",
          "text": [
            "He is 6 years old\n"
          ]
        }
      ]
    },
    {
      "cell_type": "code",
      "source": [
        "print('He is '+ str(z)+ \" years old\")"
      ],
      "metadata": {
        "colab": {
          "base_uri": "https://localhost:8080/"
        },
        "id": "2A91rqM4z8vR",
        "outputId": "19d8e9b2-9962-43fc-f803-fb1f7a46f4e9"
      },
      "execution_count": null,
      "outputs": [
        {
          "output_type": "stream",
          "name": "stdout",
          "text": [
            "He is 6 years old\n"
          ]
        }
      ]
    }
  ]
}
