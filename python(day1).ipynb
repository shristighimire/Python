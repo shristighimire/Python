{
  "nbformat": 4,
  "nbformat_minor": 0,
  "metadata": {
    "colab": {
      "provenance": []
    },
    "kernelspec": {
      "name": "python3",
      "display_name": "Python 3"
    },
    "language_info": {
      "name": "python"
    }
  },
  "cells": [
    {
      "cell_type": "markdown",
      "source": [
        "Example 1"
      ],
      "metadata": {
        "id": "QzaAR8l-dVTd"
      }
    },
    {
      "cell_type": "code",
      "execution_count": null,
      "metadata": {
        "colab": {
          "base_uri": "https://localhost:8080/"
        },
        "id": "xW3R-T3Xcvor",
        "outputId": "79b4a059-7837-4f9d-d77b-736062b30c37"
      },
      "outputs": [
        {
          "output_type": "stream",
          "name": "stdout",
          "text": [
            "hello\n"
          ]
        }
      ],
      "source": [
        "print(\"hello\")"
      ]
    },
    {
      "cell_type": "markdown",
      "source": [
        "Example 2"
      ],
      "metadata": {
        "id": "1EUsUXvgdoSf"
      }
    },
    {
      "cell_type": "code",
      "source": [
        "print(\"1+2\")"
      ],
      "metadata": {
        "colab": {
          "base_uri": "https://localhost:8080/"
        },
        "id": "RHYm4ecidbBF",
        "outputId": "2bbb7d33-7396-4bb6-de80-072a04a869d4"
      },
      "execution_count": null,
      "outputs": [
        {
          "output_type": "stream",
          "name": "stdout",
          "text": [
            "1+2\n"
          ]
        }
      ]
    },
    {
      "cell_type": "code",
      "source": [
        "print(1+2)"
      ],
      "metadata": {
        "colab": {
          "base_uri": "https://localhost:8080/"
        },
        "id": "tXayi0-idsrN",
        "outputId": "2973c7ce-f435-4f46-f581-67b8cfa1008d"
      },
      "execution_count": null,
      "outputs": [
        {
          "output_type": "stream",
          "name": "stdout",
          "text": [
            "3\n"
          ]
        }
      ]
    },
    {
      "cell_type": "markdown",
      "source": [
        "Example 3"
      ],
      "metadata": {
        "id": "7HcF7d2Jd6lD"
      }
    },
    {
      "cell_type": "code",
      "source": [
        "print( 'Hello Dr. Conrad!')\n",
        "print('My favourite thing to do is writing poems.')\n",
        "print('My name is Shristi and I am in my first semester in marymount.')"
      ],
      "metadata": {
        "colab": {
          "base_uri": "https://localhost:8080/"
        },
        "id": "K2CNgqqLd-ZC",
        "outputId": "355e076b-4b1b-40ae-9248-98a372653dc9"
      },
      "execution_count": null,
      "outputs": [
        {
          "output_type": "stream",
          "name": "stdout",
          "text": [
            "Hello Dr. Conrad!\n",
            "My favourite thing to do is writing poems.\n",
            "My name is Shristi and I am in my first semester in marymount.\n"
          ]
        }
      ]
    }
  ]
}