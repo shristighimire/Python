{
  "nbformat": 4,
  "nbformat_minor": 0,
  "metadata": {
    "colab": {
      "provenance": []
    },
    "kernelspec": {
      "name": "python3",
      "display_name": "Python 3"
    },
    "language_info": {
      "name": "python"
    }
  },
  "cells": [
    {
      "cell_type": "code",
      "execution_count": null,
      "metadata": {
        "colab": {
          "base_uri": "https://localhost:8080/"
        },
        "id": "CQgXvnh-_Fk2",
        "outputId": "f0ff89be-ef28-4d5b-d55d-c56dbd4f01eb"
      },
      "outputs": [
        {
          "output_type": "stream",
          "name": "stdout",
          "text": [
            "The current value is 20\n"
          ]
        }
      ],
      "source": [
        "current_value= 20\n",
        "while current_value>=3 and current_value<=10:\n",
        "  print(current_value)\n",
        "  current_value+=1\n",
        "print(f\"The current value is {current_value}\")"
      ]
    },
    {
      "cell_type": "code",
      "source": [],
      "metadata": {
        "id": "kdbaIchy3Amk"
      },
      "execution_count": null,
      "outputs": []
    },
    {
      "cell_type": "code",
      "source": [
        "prompt = \"How many people are in your dinner group? \"\n",
        "answer=True\n",
        "while answer:\n",
        "  msg = input(prompt)\n",
        "  num=int(msg)\n",
        "  if num <=2:\n",
        "    print(\"There is no wait\")\n",
        "    answer=False\n",
        "  elif num<=4:\n",
        "    print(\"The wait is 5 minutes.\")\n",
        "    answer=False\n",
        "  elif num<=6:\n",
        "    print(\"The wait is 10 minutes.\")\n",
        "    answer=False\n",
        "  else:\n",
        "    print(\"The wait is 15 minutes.\")\n",
        "    answer=False"
      ],
      "metadata": {
        "id": "koM4wWRz3Asn",
        "outputId": "a5c84b86-b961-4e2d-c42f-f86f255127ae",
        "colab": {
          "base_uri": "https://localhost:8080/"
        }
      },
      "execution_count": null,
      "outputs": [
        {
          "output_type": "stream",
          "name": "stdout",
          "text": [
            "How many people are in your dinner group? 4\n",
            "The wait is 5 minutes.\n"
          ]
        }
      ]
    },
    {
      "cell_type": "code",
      "source": [
        "count=2\n",
        "while count<=7:\n",
        "  print(count)\n",
        "  count=count+2\n",
        "\n"
      ],
      "metadata": {
        "colab": {
          "base_uri": "https://localhost:8080/"
        },
        "id": "ZVHvj6bC_wzp",
        "outputId": "533858b8-8f9f-4259-efab-8344a61a8dc5"
      },
      "execution_count": null,
      "outputs": [
        {
          "output_type": "stream",
          "name": "stdout",
          "text": [
            "2\n",
            "4\n",
            "6\n"
          ]
        }
      ]
    },
    {
      "cell_type": "code",
      "source": [
        "tell=\"I will tell you when I want to quit.\"\n",
        "tell += \"\\n Enter 'end' to terminate the program.\"\n",
        "tell +=\"Hi\"\n",
        "message=\"\"\n",
        "while message!='end':\n",
        "  message=input(tell)\n",
        "print(tell)"
      ],
      "metadata": {
        "colab": {
          "base_uri": "https://localhost:8080/"
        },
        "id": "DZWrug4KCKp2",
        "outputId": "670ace80-3713-4d0c-9a0c-de7cb75a9291"
      },
      "execution_count": null,
      "outputs": [
        {
          "output_type": "stream",
          "name": "stdout",
          "text": [
            "I will tell you when I want to quit.\n",
            " Enter 'end' to terminate the program.Hiri\n",
            "I will tell you when I want to quit.\n",
            " Enter 'end' to terminate the program.Hiend\n",
            "I will tell you when I want to quit.\n",
            " Enter 'end' to terminate the program.Hi\n"
          ]
        }
      ]
    },
    {
      "cell_type": "code",
      "source": [],
      "metadata": {
        "id": "FMpm1kQeAfe2"
      },
      "execution_count": null,
      "outputs": []
    }
  ]
}